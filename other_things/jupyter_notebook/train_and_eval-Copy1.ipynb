{
 "cells": [
  {
   "cell_type": "code",
   "execution_count": 1,
   "id": "4f166299-f9fe-4a83-bec4-c95f93b014bc",
   "metadata": {},
   "outputs": [],
   "source": [
    "import time\n",
    "import os\n",
    "import numpy as np\n",
    "import math\n",
    "import matplotlib.pyplot as plt\n",
    "\n",
    "os.environ['TF_CPP_MIN_LOG_LEVEL'] = '3'\n",
    "import tensorflow as tf\n",
    "from tensorflow.keras import layers, models\n",
    "\n",
    "tf.get_logger().setLevel('ERROR')"
   ]
  },
  {
   "cell_type": "code",
   "execution_count": 2,
   "id": "521db89f-c8a4-4149-bb6e-c131d122be03",
   "metadata": {},
   "outputs": [],
   "source": [
    "from sklearn.metrics import confusion_matrix\n",
    "import pandas as pd"
   ]
  },
  {
   "cell_type": "code",
   "execution_count": 3,
   "id": "0adedb82-5be1-4f36-a539-9d8f09b94b9f",
   "metadata": {},
   "outputs": [
    {
     "name": "stdout",
     "output_type": "stream",
     "text": [
      "/home/balazs/Desktop/github/smart-gas-meter-reader/other_things/jupyter_notebook\n"
     ]
    }
   ],
   "source": [
    "!pwd"
   ]
  },
  {
   "cell_type": "markdown",
   "id": "62475f74-f894-4f8a-b852-c37319a27af8",
   "metadata": {
    "tags": []
   },
   "source": [
    "# Load data\n",
    "\n",
    "Number classification task"
   ]
  },
  {
   "cell_type": "code",
   "execution_count": 4,
   "id": "69c464f2-f074-41e8-9eac-88f35d4160ce",
   "metadata": {},
   "outputs": [],
   "source": [
    "# DATA_DIR = \"./numbers/\"\n",
    "DATA_DIR = \"../../number_classification/train_data\"\n",
    "CHECKPOINT_PATH = \"./models/\"\n",
    "BATCH_SIZE = None\n",
    "IMG_HEIGHT = 28\n",
    "IMG_WIDTH = 28\n",
    "TRAIN_VAL_RATIO = 0.01"
   ]
  },
  {
   "cell_type": "code",
   "execution_count": 5,
   "id": "3a203fb7-8f81-4d95-adb0-21ecbbdb9264",
   "metadata": {},
   "outputs": [
    {
     "name": "stdout",
     "output_type": "stream",
     "text": [
      "Found 2191 files belonging to 10 classes.\n",
      "Using 2170 files for training.\n",
      "Found 2191 files belonging to 10 classes.\n",
      "Using 21 files for validation.\n"
     ]
    }
   ],
   "source": [
    "train_ds = tf.keras.utils.image_dataset_from_directory(\n",
    "    DATA_DIR,\n",
    "    validation_split=TRAIN_VAL_RATIO,\n",
    "    subset=\"training\",\n",
    "    seed=123,\n",
    "    image_size=(IMG_HEIGHT, IMG_WIDTH),\n",
    "    batch_size=BATCH_SIZE,\n",
    "    color_mode='grayscale')\n",
    "\n",
    "val_ds = tf.keras.utils.image_dataset_from_directory(\n",
    "    DATA_DIR,\n",
    "    validation_split=TRAIN_VAL_RATIO,\n",
    "    subset=\"validation\",\n",
    "    seed=123,\n",
    "    image_size=(IMG_HEIGHT, IMG_WIDTH),\n",
    "    batch_size=BATCH_SIZE,\n",
    "    color_mode='grayscale')"
   ]
  },
  {
   "cell_type": "code",
   "execution_count": 6,
   "id": "4dd6a48e-875a-43f8-84e6-0ad946bbc09d",
   "metadata": {},
   "outputs": [],
   "source": [
    "# # Normalizing the images between 0 and 1\n",
    "# normalization_layer = tf.keras.layers.Rescaling(1. / 255)\n",
    "# train_ds = train_ds.map(lambda x, y: (normalization_layer(x), y))\n",
    "# val_ds = val_ds.map(lambda x, y: (normalization_layer(x), y))\n",
    "\n",
    "# AUTOTUNE = tf.data.AUTOTUNE\n",
    "# train_ds = train_ds.cache().prefetch(buffer_size=AUTOTUNE)\n",
    "# val_ds = val_ds.cache().prefetch(buffer_size=AUTOTUNE)"
   ]
  },
  {
   "cell_type": "code",
   "execution_count": 7,
   "id": "1676ed1c-5092-48dd-8458-82d2fea94977",
   "metadata": {},
   "outputs": [],
   "source": [
    "# ds_iterator = iter(train_ds)"
   ]
  },
  {
   "cell_type": "code",
   "execution_count": 8,
   "id": "24928409-dd98-4388-ba7d-b90cfc944ee2",
   "metadata": {},
   "outputs": [],
   "source": [
    "# im_batch, label_batch = next(ds_iterator)"
   ]
  },
  {
   "cell_type": "code",
   "execution_count": 9,
   "id": "6a4e54e1-b560-43ea-a58a-5531586c3303",
   "metadata": {},
   "outputs": [],
   "source": [
    "# data_tuple_list = list(zip(im_batch, label_batch))"
   ]
  },
  {
   "cell_type": "code",
   "execution_count": 10,
   "id": "7914c678-4423-4001-8aff-a12d3b373629",
   "metadata": {},
   "outputs": [],
   "source": [
    "# dim = math.ceil(math.sqrt(len(data_tuple_list)))\n",
    "# rows = dim\n",
    "# cols = dim\n",
    "# fig = plt.figure(figsize=[15, 18])\n",
    "\n",
    "# for i, (img, lbl) in enumerate(data_tuple_list): \n",
    "#     # print(lbl)\n",
    "#     # print(img)\n",
    "#     ax = plt.subplot(rows, cols, (i + 1))\n",
    "#     plt.xticks([]) \n",
    "#     plt.yticks([]) \n",
    "#     plt.imshow(img/255.)\n",
    "#     plt.title(lbl.numpy())\n",
    "# plt.show()"
   ]
  },
  {
   "cell_type": "code",
   "execution_count": 11,
   "id": "3cddfedc-60bc-4d79-811a-bcb69767e4c3",
   "metadata": {},
   "outputs": [
    {
     "name": "stderr",
     "output_type": "stream",
     "text": [
      "/home/balazs/anaconda3/envs/jupy/lib/python3.9/site-packages/tqdm/auto.py:21: TqdmWarning: IProgress not found. Please update jupyter and ipywidgets. See https://ipywidgets.readthedocs.io/en/stable/user_install.html\n",
      "  from .autonotebook import tqdm as notebook_tqdm\n"
     ]
    }
   ],
   "source": [
    "import tensorflow_datasets as tfds"
   ]
  },
  {
   "cell_type": "code",
   "execution_count": 12,
   "id": "979cb4aa-e72f-4422-9bf3-ce8f3c4f707e",
   "metadata": {},
   "outputs": [],
   "source": [
    "# (train_data, train_label), (val_data, val_label) = tf.keras.datasets.mnist.load_data()\n",
    "# mnist_train_ds = tfds.load('mnist', split='train', shuffle_files=True, )\n",
    "# mnist_val_ds = tfds.load('mnist', split='test', shuffle_files=True)"
   ]
  },
  {
   "cell_type": "code",
   "execution_count": 13,
   "id": "286a8263-ba16-441c-aa27-d50583241623",
   "metadata": {},
   "outputs": [],
   "source": [
    "# mnist_train_ds = mnist_train_ds.shuffle(1024).batch(BATCH_SIZE).prefetch(tf.data.AUTOTUNE)\n",
    "# mnist_val_ds = mnist_val_ds.shuffle(1024).batch(BATCH_SIZE).prefetch(tf.data.AUTOTUNE)"
   ]
  },
  {
   "cell_type": "code",
   "execution_count": 14,
   "id": "0d03bd27-ae3d-478a-a7fe-4b6b1847c60b",
   "metadata": {},
   "outputs": [],
   "source": [
    "(x_train, y_train), (x_test, y_test) = tf.keras.datasets.mnist.load_data()"
   ]
  },
  {
   "cell_type": "code",
   "execution_count": 15,
   "id": "64baf304-dad2-4c7b-ac56-d0e5cc15a50a",
   "metadata": {},
   "outputs": [
    {
     "data": {
      "text/plain": [
       "(60000, 28, 28)"
      ]
     },
     "execution_count": 15,
     "metadata": {},
     "output_type": "execute_result"
    }
   ],
   "source": [
    "x_train.shape"
   ]
  },
  {
   "cell_type": "code",
   "execution_count": 16,
   "id": "f8293f00-7f4a-461a-ad79-a566d8fb09d7",
   "metadata": {},
   "outputs": [],
   "source": [
    "x_train, x_test = np.array(x_train, np.uint8), np.array(x_test, np.uint8)\n",
    "x_train = x_train.reshape((x_train.shape[0], 28, 28, 1))\n",
    "x_test = x_test.reshape((x_test.shape[0], 28, 28, 1))\n",
    "\n",
    "y_train = np.array(y_train, np.int64)\n",
    "y_test = np.array(y_test, np.int64)\n",
    "# x_train, self.y_train, self.x_val, self.y_val = self.split_data(self.rnd, val_size // 10, self.x_train,\n",
    "#                                                                      self.y_train)"
   ]
  },
  {
   "cell_type": "code",
   "execution_count": 17,
   "id": "f34fbf57-b6f6-471c-9d86-77a09df95be8",
   "metadata": {},
   "outputs": [
    {
     "data": {
      "text/plain": [
       "((60000, 28, 28, 1), dtype('uint8'))"
      ]
     },
     "execution_count": 17,
     "metadata": {},
     "output_type": "execute_result"
    }
   ],
   "source": [
    "x_train.shape, x_train.dtype"
   ]
  },
  {
   "cell_type": "code",
   "execution_count": 18,
   "id": "71a0a320-723b-4a33-a6b1-ede5d6839ee5",
   "metadata": {},
   "outputs": [],
   "source": [
    "t_data,t_label = zip(*[(a.numpy(),b.numpy()) for a,b in iter(train_ds)])\n",
    "v_data,v_label = zip(*[(a.numpy(),b.numpy()) for a,b in iter(val_ds)])"
   ]
  },
  {
   "cell_type": "code",
   "execution_count": 19,
   "id": "f5dc87b7-f955-4be6-8ed6-721e4102029f",
   "metadata": {},
   "outputs": [],
   "source": [
    "train_x = np.array(t_data, np.uint8)\n",
    "train_y = np.array(t_label, np.int64)\n",
    "test_x = np.array(v_data, np.uint8)\n",
    "test_y = np.array(v_label, np.int64)"
   ]
  },
  {
   "cell_type": "code",
   "execution_count": 20,
   "id": "d9a67711-f333-4259-a522-aafde76b8909",
   "metadata": {},
   "outputs": [
    {
     "name": "stdout",
     "output_type": "stream",
     "text": [
      "(2170, 28, 28, 1) (2170,) (60000, 28, 28, 1) (60000,)\n",
      "(21, 28, 28, 1) (21,) (10000, 28, 28, 1) (10000,)\n"
     ]
    }
   ],
   "source": [
    "print(train_x.shape, train_y.shape, x_train.shape, y_train.shape)\n",
    "print(test_x.shape, test_y.shape, x_test.shape, y_test.shape)"
   ]
  },
  {
   "cell_type": "code",
   "execution_count": 21,
   "id": "a4e17f74-891d-4165-a682-14cd5a350a7d",
   "metadata": {},
   "outputs": [],
   "source": [
    "con_train_x = np.concatenate((train_x, x_train), axis=0)\n",
    "con_train_y = np.concatenate((train_y, y_train), axis=0)\n",
    "con_test_x = np.concatenate((test_x, x_test), axis=0)\n",
    "con_test_y = np.concatenate((test_y, y_test), axis=0)"
   ]
  },
  {
   "cell_type": "code",
   "execution_count": 22,
   "id": "55c285c2-1abd-4f2c-a36f-7224fd62ae87",
   "metadata": {},
   "outputs": [
    {
     "name": "stdout",
     "output_type": "stream",
     "text": [
      "(2170, 28, 28, 1) (2170,)\n",
      "(21, 28, 28, 1) (21,)\n"
     ]
    }
   ],
   "source": [
    "print(train_x.shape, train_y.shape)\n",
    "print(test_x.shape, test_y.shape)"
   ]
  },
  {
   "cell_type": "code",
   "execution_count": 23,
   "id": "f87b8d45-d141-4a69-b1f6-56949c28a2de",
   "metadata": {},
   "outputs": [],
   "source": [
    "# idx = np.random.permutation(len(train_x))\n",
    "# idx = idx[0:32]\n",
    "# x,y = train_x[idx], train_y[idx]\n",
    "\n",
    "# dim = math.ceil(math.sqrt(len(x)))\n",
    "# rows = dim\n",
    "# cols = dim\n",
    "# fig = plt.figure(figsize=[15, 18])\n",
    "\n",
    "# for i, img in enumerate(x): \n",
    "#     # print(lbl)\n",
    "#     # print(img)\n",
    "#     ax = plt.subplot(rows, cols, (i + 1))\n",
    "#     plt.xticks([]) \n",
    "#     plt.yticks([]) \n",
    "#     plt.imshow(img)\n",
    "#     plt.title(y[i])\n",
    "# plt.show()"
   ]
  },
  {
   "cell_type": "markdown",
   "id": "0b8d88dc-872f-4e6b-8aa0-95bd1e66b2e4",
   "metadata": {
    "tags": []
   },
   "source": [
    "# Define model structure and callback"
   ]
  },
  {
   "cell_type": "code",
   "execution_count": 24,
   "id": "fbcd5ace-bdea-4caf-b115-9d6f92b1d039",
   "metadata": {},
   "outputs": [],
   "source": [
    "def create_model():\n",
    "\n",
    "    resize_and_rescale = tf.keras.Sequential([\n",
    "      # tf.keras.layers.Resizing(IMG_WIDTH, IMG_HEIGHT),\n",
    "      tf.keras.layers.Rescaling(1./255)\n",
    "    ])\n",
    "\n",
    "    data_augmentation = tf.keras.Sequential([\n",
    "            tf.keras.layers.RandomRotation(0.15)\n",
    "            # tf.keras.layers.RandomContrast(0.5)\n",
    "        ])\n",
    "    \n",
    "    model = models.Sequential()\n",
    "    model.add(resize_and_rescale)\n",
    "    model.add(data_augmentation)\n",
    "    model.add(layers.Conv2D(32, (3, 3), activation='relu'))\n",
    "    model.add(layers.Conv2D(32, (3, 3), activation='relu'))\n",
    "    model.add(layers.MaxPooling2D((2, 2)))\n",
    "    model.add(layers.Conv2D(64, (3, 3), activation='relu'))\n",
    "    model.add(layers.MaxPooling2D((2, 2)))\n",
    "    model.add(layers.Conv2D(64, (3, 3), activation='relu'))\n",
    "    model.add(layers.Flatten())\n",
    "    model.add(layers.Dense(256, activation='relu'))\n",
    "    model.add(layers.Dense(10, activation='softmax'))\n",
    "\n",
    "    return model"
   ]
  },
  {
   "cell_type": "code",
   "execution_count": 33,
   "id": "598d50a2-ef3d-4511-a0cc-f6eb0665b97a",
   "metadata": {},
   "outputs": [],
   "source": [
    "# cur_time = round(time.time())\n",
    "\n",
    "# # checkpoint_filepath = './local_models/' + str(cur_time) + \"/\" + 'val_acc_{val_accuracy:.2f}_'\n",
    "# checkpoint_filepath = CHECKPOINT_PATH + str(cur_time) + \"/\"\n",
    "# model_checkpoint_callback = tf.keras.callbacks.ModelCheckpoint(\n",
    "#     filepath=checkpoint_filepath,\n",
    "#     save_weights_only=False,\n",
    "#     monitor='val_accuracy',\n",
    "#     mode='max',\n",
    "#     save_best_only=True)"
   ]
  },
  {
   "cell_type": "markdown",
   "id": "c227c676-3a26-4aac-83ad-1fb4197b7574",
   "metadata": {
    "tags": []
   },
   "source": [
    "# Model training"
   ]
  },
  {
   "cell_type": "code",
   "execution_count": 34,
   "id": "750e5f8c-6549-46ef-b1a2-c5eb74d2d5fe",
   "metadata": {},
   "outputs": [],
   "source": [
    "model = create_model()"
   ]
  },
  {
   "cell_type": "code",
   "execution_count": 35,
   "id": "06cfeb00-31eb-4ba7-a3a4-25851ad2d5be",
   "metadata": {},
   "outputs": [],
   "source": [
    "optimizer = tf.keras.optimizers.Adam(learning_rate=10e-4)\n",
    "model.compile(optimizer=optimizer,\n",
    "                  loss=tf.keras.losses.SparseCategoricalCrossentropy(from_logits=False),\n",
    "                  metrics=['accuracy'])"
   ]
  },
  {
   "cell_type": "code",
   "execution_count": 36,
   "id": "5baa4665-844e-4707-b9e6-f86ce6d69d18",
   "metadata": {
    "tags": []
   },
   "outputs": [
    {
     "name": "stdout",
     "output_type": "stream",
     "text": [
      "Epoch 1/30\n",
      "\u001b[1m17/17\u001b[0m \u001b[32m━━━━━━━━━━━━━━━━━━━━\u001b[0m\u001b[37m\u001b[0m \u001b[1m3s\u001b[0m 60ms/step - accuracy: 0.2898 - loss: 2.1247 - val_accuracy: 0.2857 - val_loss: 1.9401\n",
      "Epoch 2/30\n",
      "\u001b[1m17/17\u001b[0m \u001b[32m━━━━━━━━━━━━━━━━━━━━\u001b[0m\u001b[37m\u001b[0m \u001b[1m1s\u001b[0m 52ms/step - accuracy: 0.3245 - loss: 1.9111 - val_accuracy: 0.2857 - val_loss: 1.6741\n",
      "Epoch 3/30\n",
      "\u001b[1m17/17\u001b[0m \u001b[32m━━━━━━━━━━━━━━━━━━━━\u001b[0m\u001b[37m\u001b[0m \u001b[1m1s\u001b[0m 53ms/step - accuracy: 0.4063 - loss: 1.6765 - val_accuracy: 0.5714 - val_loss: 1.4630\n",
      "Epoch 4/30\n",
      "\u001b[1m17/17\u001b[0m \u001b[32m━━━━━━━━━━━━━━━━━━━━\u001b[0m\u001b[37m\u001b[0m \u001b[1m1s\u001b[0m 54ms/step - accuracy: 0.5185 - loss: 1.3935 - val_accuracy: 0.7143 - val_loss: 1.2086\n",
      "Epoch 5/30\n",
      "\u001b[1m17/17\u001b[0m \u001b[32m━━━━━━━━━━━━━━━━━━━━\u001b[0m\u001b[37m\u001b[0m \u001b[1m1s\u001b[0m 54ms/step - accuracy: 0.5928 - loss: 1.2052 - val_accuracy: 0.7143 - val_loss: 1.0082\n",
      "Epoch 6/30\n",
      "\u001b[1m17/17\u001b[0m \u001b[32m━━━━━━━━━━━━━━━━━━━━\u001b[0m\u001b[37m\u001b[0m \u001b[1m1s\u001b[0m 55ms/step - accuracy: 0.6876 - loss: 0.9519 - val_accuracy: 0.7619 - val_loss: 0.8983\n",
      "Epoch 7/30\n",
      "\u001b[1m17/17\u001b[0m \u001b[32m━━━━━━━━━━━━━━━━━━━━\u001b[0m\u001b[37m\u001b[0m \u001b[1m1s\u001b[0m 53ms/step - accuracy: 0.7328 - loss: 0.8319 - val_accuracy: 0.8095 - val_loss: 0.7972\n",
      "Epoch 8/30\n",
      "\u001b[1m17/17\u001b[0m \u001b[32m━━━━━━━━━━━━━━━━━━━━\u001b[0m\u001b[37m\u001b[0m \u001b[1m1s\u001b[0m 51ms/step - accuracy: 0.7686 - loss: 0.7206 - val_accuracy: 0.7143 - val_loss: 0.7222\n",
      "Epoch 9/30\n",
      "\u001b[1m17/17\u001b[0m \u001b[32m━━━━━━━━━━━━━━━━━━━━\u001b[0m\u001b[37m\u001b[0m \u001b[1m1s\u001b[0m 53ms/step - accuracy: 0.8246 - loss: 0.5724 - val_accuracy: 0.6667 - val_loss: 0.7670\n",
      "Epoch 10/30\n",
      "\u001b[1m17/17\u001b[0m \u001b[32m━━━━━━━━━━━━━━━━━━━━\u001b[0m\u001b[37m\u001b[0m \u001b[1m1s\u001b[0m 51ms/step - accuracy: 0.8381 - loss: 0.5125 - val_accuracy: 0.8095 - val_loss: 0.5770\n",
      "Epoch 11/30\n",
      "\u001b[1m17/17\u001b[0m \u001b[32m━━━━━━━━━━━━━━━━━━━━\u001b[0m\u001b[37m\u001b[0m \u001b[1m1s\u001b[0m 54ms/step - accuracy: 0.8493 - loss: 0.4750 - val_accuracy: 0.8095 - val_loss: 0.7074\n",
      "Epoch 12/30\n",
      "\u001b[1m17/17\u001b[0m \u001b[32m━━━━━━━━━━━━━━━━━━━━\u001b[0m\u001b[37m\u001b[0m \u001b[1m1s\u001b[0m 55ms/step - accuracy: 0.8750 - loss: 0.4166 - val_accuracy: 0.8571 - val_loss: 0.4648\n",
      "Epoch 13/30\n",
      "\u001b[1m17/17\u001b[0m \u001b[32m━━━━━━━━━━━━━━━━━━━━\u001b[0m\u001b[37m\u001b[0m \u001b[1m1s\u001b[0m 53ms/step - accuracy: 0.8802 - loss: 0.3751 - val_accuracy: 0.9048 - val_loss: 0.4987\n",
      "Epoch 14/30\n",
      "\u001b[1m17/17\u001b[0m \u001b[32m━━━━━━━━━━━━━━━━━━━━\u001b[0m\u001b[37m\u001b[0m \u001b[1m1s\u001b[0m 51ms/step - accuracy: 0.8812 - loss: 0.3486 - val_accuracy: 0.9048 - val_loss: 0.4336\n",
      "Epoch 15/30\n",
      "\u001b[1m17/17\u001b[0m \u001b[32m━━━━━━━━━━━━━━━━━━━━\u001b[0m\u001b[37m\u001b[0m \u001b[1m1s\u001b[0m 52ms/step - accuracy: 0.9030 - loss: 0.3006 - val_accuracy: 0.8571 - val_loss: 0.5877\n",
      "Epoch 16/30\n",
      "\u001b[1m17/17\u001b[0m \u001b[32m━━━━━━━━━━━━━━━━━━━━\u001b[0m\u001b[37m\u001b[0m \u001b[1m1s\u001b[0m 51ms/step - accuracy: 0.9044 - loss: 0.2973 - val_accuracy: 0.9524 - val_loss: 0.3638\n",
      "Epoch 17/30\n",
      "\u001b[1m17/17\u001b[0m \u001b[32m━━━━━━━━━━━━━━━━━━━━\u001b[0m\u001b[37m\u001b[0m \u001b[1m1s\u001b[0m 51ms/step - accuracy: 0.9324 - loss: 0.2251 - val_accuracy: 0.9524 - val_loss: 0.4712\n",
      "Epoch 18/30\n",
      "\u001b[1m17/17\u001b[0m \u001b[32m━━━━━━━━━━━━━━━━━━━━\u001b[0m\u001b[37m\u001b[0m \u001b[1m1s\u001b[0m 51ms/step - accuracy: 0.9199 - loss: 0.2429 - val_accuracy: 0.9524 - val_loss: 0.4207\n",
      "Epoch 19/30\n",
      "\u001b[1m17/17\u001b[0m \u001b[32m━━━━━━━━━━━━━━━━━━━━\u001b[0m\u001b[37m\u001b[0m \u001b[1m1s\u001b[0m 52ms/step - accuracy: 0.9255 - loss: 0.2238 - val_accuracy: 0.9524 - val_loss: 0.3116\n",
      "Epoch 20/30\n",
      "\u001b[1m17/17\u001b[0m \u001b[32m━━━━━━━━━━━━━━━━━━━━\u001b[0m\u001b[37m\u001b[0m \u001b[1m1s\u001b[0m 52ms/step - accuracy: 0.9318 - loss: 0.1982 - val_accuracy: 0.9524 - val_loss: 0.3013\n",
      "Epoch 21/30\n",
      "\u001b[1m17/17\u001b[0m \u001b[32m━━━━━━━━━━━━━━━━━━━━\u001b[0m\u001b[37m\u001b[0m \u001b[1m1s\u001b[0m 50ms/step - accuracy: 0.9529 - loss: 0.1583 - val_accuracy: 0.9524 - val_loss: 0.3727\n",
      "Epoch 22/30\n",
      "\u001b[1m17/17\u001b[0m \u001b[32m━━━━━━━━━━━━━━━━━━━━\u001b[0m\u001b[37m\u001b[0m \u001b[1m1s\u001b[0m 51ms/step - accuracy: 0.9631 - loss: 0.1375 - val_accuracy: 0.9048 - val_loss: 0.4300\n",
      "Epoch 23/30\n",
      "\u001b[1m17/17\u001b[0m \u001b[32m━━━━━━━━━━━━━━━━━━━━\u001b[0m\u001b[37m\u001b[0m \u001b[1m1s\u001b[0m 51ms/step - accuracy: 0.9524 - loss: 0.1460 - val_accuracy: 0.8571 - val_loss: 0.4751\n",
      "Epoch 24/30\n",
      "\u001b[1m17/17\u001b[0m \u001b[32m━━━━━━━━━━━━━━━━━━━━\u001b[0m\u001b[37m\u001b[0m \u001b[1m1s\u001b[0m 52ms/step - accuracy: 0.9676 - loss: 0.1194 - val_accuracy: 0.9524 - val_loss: 0.2593\n",
      "Epoch 25/30\n",
      "\u001b[1m17/17\u001b[0m \u001b[32m━━━━━━━━━━━━━━━━━━━━\u001b[0m\u001b[37m\u001b[0m \u001b[1m1s\u001b[0m 54ms/step - accuracy: 0.9588 - loss: 0.1450 - val_accuracy: 0.9048 - val_loss: 0.3777\n",
      "Epoch 26/30\n",
      "\u001b[1m17/17\u001b[0m \u001b[32m━━━━━━━━━━━━━━━━━━━━\u001b[0m\u001b[37m\u001b[0m \u001b[1m1s\u001b[0m 53ms/step - accuracy: 0.9716 - loss: 0.1150 - val_accuracy: 0.9524 - val_loss: 0.3578\n",
      "Epoch 27/30\n",
      "\u001b[1m17/17\u001b[0m \u001b[32m━━━━━━━━━━━━━━━━━━━━\u001b[0m\u001b[37m\u001b[0m \u001b[1m1s\u001b[0m 52ms/step - accuracy: 0.9668 - loss: 0.1104 - val_accuracy: 0.9524 - val_loss: 0.3484\n",
      "Epoch 28/30\n",
      "\u001b[1m17/17\u001b[0m \u001b[32m━━━━━━━━━━━━━━━━━━━━\u001b[0m\u001b[37m\u001b[0m \u001b[1m1s\u001b[0m 52ms/step - accuracy: 0.9661 - loss: 0.1026 - val_accuracy: 0.9524 - val_loss: 0.2213\n",
      "Epoch 29/30\n",
      "\u001b[1m17/17\u001b[0m \u001b[32m━━━━━━━━━━━━━━━━━━━━\u001b[0m\u001b[37m\u001b[0m \u001b[1m1s\u001b[0m 53ms/step - accuracy: 0.9744 - loss: 0.0829 - val_accuracy: 0.9524 - val_loss: 0.4316\n",
      "Epoch 30/30\n",
      "\u001b[1m17/17\u001b[0m \u001b[32m━━━━━━━━━━━━━━━━━━━━\u001b[0m\u001b[37m\u001b[0m \u001b[1m1s\u001b[0m 54ms/step - accuracy: 0.9752 - loss: 0.0827 - val_accuracy: 0.9048 - val_loss: 0.4003\n"
     ]
    }
   ],
   "source": [
    "history = model.fit(\n",
    "    train_x, train_y,\n",
    "    validation_data=(test_x, test_y),\n",
    "    epochs=30,\n",
    "    batch_size=128,\n",
    "    shuffle=True\n",
    "    # callbacks=[model_checkpoint_callback]\n",
    ")"
   ]
  },
  {
   "cell_type": "code",
   "execution_count": 29,
   "id": "7e544372-7b99-40ab-ae58-9d9a23bf2a8d",
   "metadata": {},
   "outputs": [
    {
     "name": "stdout",
     "output_type": "stream",
     "text": [
      "Model: \"sequential_2\"\n",
      "_________________________________________________________________\n",
      " Layer (type)                Output Shape              Param #   \n",
      "=================================================================\n",
      " sequential (Sequential)     (None, 28, 28, 1)         0         \n",
      "                                                                 \n",
      " sequential_1 (Sequential)   (None, 28, 28, 1)         0         \n",
      "                                                                 \n",
      " conv2d (Conv2D)             (None, 26, 26, 32)        320       \n",
      "                                                                 \n",
      " conv2d_1 (Conv2D)           (None, 24, 24, 32)        9248      \n",
      "                                                                 \n",
      " max_pooling2d (MaxPooling2D  (None, 12, 12, 32)       0         \n",
      " )                                                               \n",
      "                                                                 \n",
      " conv2d_2 (Conv2D)           (None, 10, 10, 64)        18496     \n",
      "                                                                 \n",
      " max_pooling2d_1 (MaxPooling  (None, 5, 5, 64)         0         \n",
      " 2D)                                                             \n",
      "                                                                 \n",
      " conv2d_3 (Conv2D)           (None, 3, 3, 64)          36928     \n",
      "                                                                 \n",
      " flatten (Flatten)           (None, 576)               0         \n",
      "                                                                 \n",
      " dense (Dense)               (None, 256)               147712    \n",
      "                                                                 \n",
      " dense_1 (Dense)             (None, 10)                2570      \n",
      "                                                                 \n",
      "=================================================================\n",
      "Total params: 215,274\n",
      "Trainable params: 215,274\n",
      "Non-trainable params: 0\n",
      "_________________________________________________________________\n"
     ]
    }
   ],
   "source": [
    "model.summary()"
   ]
  },
  {
   "cell_type": "code",
   "execution_count": 70,
   "id": "7abb25fe-368c-44f4-8767-58dcc301a6bf",
   "metadata": {
    "tags": []
   },
   "outputs": [
    {
     "name": "stdout",
     "output_type": "stream",
     "text": [
      "Epoch 1/10\n",
      "496/496 [==============================] - 33s 64ms/step - loss: 0.0032 - accuracy: 0.9990 - val_loss: 0.0353 - val_accuracy: 0.9915\n",
      "Epoch 2/10\n",
      "496/496 [==============================] - 32s 64ms/step - loss: 0.0028 - accuracy: 0.9992 - val_loss: 0.0363 - val_accuracy: 0.9924\n",
      "Epoch 3/10\n",
      "496/496 [==============================] - 32s 65ms/step - loss: 0.0034 - accuracy: 0.9991 - val_loss: 0.0352 - val_accuracy: 0.9920\n",
      "Epoch 4/10\n",
      "496/496 [==============================] - 32s 64ms/step - loss: 0.0033 - accuracy: 0.9991 - val_loss: 0.0359 - val_accuracy: 0.9919\n",
      "Epoch 5/10\n",
      "496/496 [==============================] - 32s 64ms/step - loss: 0.0028 - accuracy: 0.9992 - val_loss: 0.0377 - val_accuracy: 0.9920\n",
      "Epoch 6/10\n",
      "496/496 [==============================] - 32s 64ms/step - loss: 0.0026 - accuracy: 0.9991 - val_loss: 0.0364 - val_accuracy: 0.9917\n",
      "Epoch 7/10\n",
      "496/496 [==============================] - 32s 65ms/step - loss: 0.0031 - accuracy: 0.9992 - val_loss: 0.0386 - val_accuracy: 0.9916\n",
      "Epoch 8/10\n",
      "496/496 [==============================] - 32s 65ms/step - loss: 0.0028 - accuracy: 0.9993 - val_loss: 0.0370 - val_accuracy: 0.9917\n",
      "Epoch 9/10\n",
      "496/496 [==============================] - 32s 65ms/step - loss: 0.0029 - accuracy: 0.9990 - val_loss: 0.0388 - val_accuracy: 0.9908\n",
      "Epoch 10/10\n",
      "496/496 [==============================] - 32s 65ms/step - loss: 0.0022 - accuracy: 0.9993 - val_loss: 0.0412 - val_accuracy: 0.9914\n"
     ]
    }
   ],
   "source": [
    "history = model.fit(\n",
    "    train_x, train_y,\n",
    "    validation_data=(test_x, test_y),\n",
    "    epochs=10,\n",
    "    batch_size=128,\n",
    "    shuffle=True\n",
    "    # callbacks=[model_checkpoint_callback]\n",
    ")"
   ]
  },
  {
   "cell_type": "code",
   "execution_count": 861,
   "id": "94d5fd98-a09c-4063-b19f-31d9cb56c41d",
   "metadata": {},
   "outputs": [],
   "source": [
    "optimizer = tf.keras.optimizers.Adam(learning_rate=10e-5)\n",
    "model.compile(optimizer=optimizer,\n",
    "                  loss=tf.keras.losses.SparseCategoricalCrossentropy(from_logits=False),\n",
    "                  metrics=['accuracy'])"
   ]
  },
  {
   "cell_type": "code",
   "execution_count": 862,
   "id": "deda6723-3d4f-4570-953b-f36ba1430d72",
   "metadata": {
    "tags": []
   },
   "outputs": [
    {
     "name": "stdout",
     "output_type": "stream",
     "text": [
      "Epoch 1/10\n",
      "14/14 [==============================] - 3s 135ms/step - loss: 0.0025 - accuracy: 0.9992 - val_loss: 0.1851 - val_accuracy: 0.9722\n",
      "Epoch 2/10\n",
      "14/14 [==============================] - 2s 127ms/step - loss: 0.0023 - accuracy: 0.9992 - val_loss: 0.2001 - val_accuracy: 0.9722\n",
      "Epoch 3/10\n",
      "14/14 [==============================] - 2s 126ms/step - loss: 0.0015 - accuracy: 0.9994 - val_loss: 0.2085 - val_accuracy: 0.9722\n",
      "Epoch 4/10\n",
      "14/14 [==============================] - 2s 124ms/step - loss: 0.0019 - accuracy: 0.9994 - val_loss: 0.2111 - val_accuracy: 0.9722\n",
      "Epoch 5/10\n",
      "14/14 [==============================] - 2s 123ms/step - loss: 0.0026 - accuracy: 0.9994 - val_loss: 0.1358 - val_accuracy: 0.9722\n",
      "Epoch 6/10\n",
      "14/14 [==============================] - 2s 124ms/step - loss: 0.0016 - accuracy: 1.0000 - val_loss: 0.1378 - val_accuracy: 0.9722\n",
      "Epoch 7/10\n",
      "14/14 [==============================] - 2s 124ms/step - loss: 9.1074e-04 - accuracy: 0.9997 - val_loss: 0.1672 - val_accuracy: 0.9722\n",
      "Epoch 8/10\n",
      "14/14 [==============================] - 2s 125ms/step - loss: 0.0015 - accuracy: 0.9997 - val_loss: 0.1948 - val_accuracy: 0.9722\n",
      "Epoch 9/10\n",
      "14/14 [==============================] - 2s 124ms/step - loss: 0.0015 - accuracy: 0.9997 - val_loss: 0.1983 - val_accuracy: 0.9722\n",
      "Epoch 10/10\n",
      "14/14 [==============================] - 2s 122ms/step - loss: 8.0893e-04 - accuracy: 1.0000 - val_loss: 0.1998 - val_accuracy: 0.9722\n"
     ]
    }
   ],
   "source": [
    "history = model.fit(\n",
    "    train_x, train_y,\n",
    "    validation_data=(test_x, test_y),\n",
    "    epochs=10,\n",
    "    batch_size=256\n",
    "    # callbacks=[model_checkpoint_callback]\n",
    ")"
   ]
  },
  {
   "cell_type": "code",
   "execution_count": 30,
   "id": "cbd57d96-79b0-41f4-8a65-82afe45de21b",
   "metadata": {},
   "outputs": [],
   "source": [
    "# softmax = tf.keras.layers.Softmax()"
   ]
  },
  {
   "cell_type": "code",
   "execution_count": 31,
   "id": "68763070-7338-4f7d-b25f-9f911d16d941",
   "metadata": {},
   "outputs": [],
   "source": [
    "# val_ds = train_ds"
   ]
  },
  {
   "cell_type": "code",
   "execution_count": 34,
   "id": "2d333cbf-929f-4eb9-aadd-6cf49ce8a97e",
   "metadata": {},
   "outputs": [],
   "source": [
    "model.save('model_1.keras')"
   ]
  },
  {
   "cell_type": "markdown",
   "id": "ab42f802-e2af-4c93-901a-5cb7e906d24d",
   "metadata": {
    "tags": []
   },
   "source": [
    "# Load model"
   ]
  },
  {
   "cell_type": "code",
   "execution_count": 29,
   "id": "08d7a6f5-712b-475f-b2bd-30234da3b51c",
   "metadata": {},
   "outputs": [],
   "source": [
    "model = tf.keras.models.load_model('model_1.keras')"
   ]
  },
  {
   "cell_type": "code",
   "execution_count": 30,
   "id": "c7e5404f-fb1c-4f8c-b600-850079db503d",
   "metadata": {},
   "outputs": [],
   "source": [
    "optimizer = tf.keras.optimizers.Adam(learning_rate=10e-5)\n",
    "model.compile(optimizer=optimizer,\n",
    "                  loss=tf.keras.losses.SparseCategoricalCrossentropy(from_logits=False),\n",
    "                  metrics=['accuracy'])"
   ]
  },
  {
   "cell_type": "code",
   "execution_count": 31,
   "id": "3233be54-1919-4809-aa9f-c5e69fb55fe9",
   "metadata": {},
   "outputs": [
    {
     "name": "stdout",
     "output_type": "stream",
     "text": [
      "68/68 [==============================] - 1s 5ms/step - loss: 0.0428 - accuracy: 0.9871\n",
      "1/1 [==============================] - 0s 20ms/step - loss: 0.2090 - accuracy: 0.9524\n"
     ]
    },
    {
     "data": {
      "text/plain": [
       "[0.20903487503528595, 0.9523809552192688]"
      ]
     },
     "execution_count": 31,
     "metadata": {},
     "output_type": "execute_result"
    }
   ],
   "source": [
    "model.evaluate(train_x, train_y)\n",
    "model.evaluate(test_x, test_y)"
   ]
  },
  {
   "cell_type": "code",
   "execution_count": 28,
   "id": "25f23010-bc33-4fb7-b049-1061c67fe71f",
   "metadata": {},
   "outputs": [
    {
     "ename": "RuntimeError",
     "evalue": "You must compile your model before training/testing. Use `model.compile(optimizer, loss)`.",
     "output_type": "error",
     "traceback": [
      "\u001b[0;31m---------------------------------------------------------------------------\u001b[0m",
      "\u001b[0;31mRuntimeError\u001b[0m                              Traceback (most recent call last)",
      "Input \u001b[0;32mIn [28]\u001b[0m, in \u001b[0;36m<cell line: 1>\u001b[0;34m()\u001b[0m\n\u001b[0;32m----> 1\u001b[0m history \u001b[38;5;241m=\u001b[39m \u001b[43mmodel\u001b[49m\u001b[38;5;241;43m.\u001b[39;49m\u001b[43mfit\u001b[49m\u001b[43m(\u001b[49m\n\u001b[1;32m      2\u001b[0m \u001b[43m    \u001b[49m\u001b[43mtrain_x\u001b[49m\u001b[43m,\u001b[49m\u001b[43m \u001b[49m\u001b[43mtrain_y\u001b[49m\u001b[43m,\u001b[49m\n\u001b[1;32m      3\u001b[0m \u001b[43m    \u001b[49m\u001b[43mvalidation_data\u001b[49m\u001b[38;5;241;43m=\u001b[39;49m\u001b[43m(\u001b[49m\u001b[43mtest_x\u001b[49m\u001b[43m,\u001b[49m\u001b[43m \u001b[49m\u001b[43mtest_y\u001b[49m\u001b[43m)\u001b[49m\u001b[43m,\u001b[49m\n\u001b[1;32m      4\u001b[0m \u001b[43m    \u001b[49m\u001b[43mepochs\u001b[49m\u001b[38;5;241;43m=\u001b[39;49m\u001b[38;5;241;43m2\u001b[39;49m\u001b[43m,\u001b[49m\n\u001b[1;32m      5\u001b[0m \u001b[43m    \u001b[49m\u001b[43mshuffle\u001b[49m\u001b[38;5;241;43m=\u001b[39;49m\u001b[38;5;28;43;01mTrue\u001b[39;49;00m\u001b[43m,\u001b[49m\n\u001b[1;32m      6\u001b[0m \u001b[43m    \u001b[49m\u001b[43mbatch_size\u001b[49m\u001b[38;5;241;43m=\u001b[39;49m\u001b[38;5;241;43m256\u001b[39;49m\n\u001b[1;32m      7\u001b[0m \u001b[43m)\u001b[49m\n",
      "File \u001b[0;32m~/anaconda3/lib/python3.9/site-packages/keras/utils/traceback_utils.py:70\u001b[0m, in \u001b[0;36mfilter_traceback.<locals>.error_handler\u001b[0;34m(*args, **kwargs)\u001b[0m\n\u001b[1;32m     67\u001b[0m     filtered_tb \u001b[38;5;241m=\u001b[39m _process_traceback_frames(e\u001b[38;5;241m.\u001b[39m__traceback__)\n\u001b[1;32m     68\u001b[0m     \u001b[38;5;66;03m# To get the full stack trace, call:\u001b[39;00m\n\u001b[1;32m     69\u001b[0m     \u001b[38;5;66;03m# `tf.debugging.disable_traceback_filtering()`\u001b[39;00m\n\u001b[0;32m---> 70\u001b[0m     \u001b[38;5;28;01mraise\u001b[39;00m e\u001b[38;5;241m.\u001b[39mwith_traceback(filtered_tb) \u001b[38;5;28;01mfrom\u001b[39;00m \u001b[38;5;28;01mNone\u001b[39;00m\n\u001b[1;32m     71\u001b[0m \u001b[38;5;28;01mfinally\u001b[39;00m:\n\u001b[1;32m     72\u001b[0m     \u001b[38;5;28;01mdel\u001b[39;00m filtered_tb\n",
      "File \u001b[0;32m~/anaconda3/lib/python3.9/site-packages/keras/engine/training.py:3618\u001b[0m, in \u001b[0;36mModel._assert_compile_was_called\u001b[0;34m(self)\u001b[0m\n\u001b[1;32m   3612\u001b[0m \u001b[38;5;28;01mdef\u001b[39;00m \u001b[38;5;21m_assert_compile_was_called\u001b[39m(\u001b[38;5;28mself\u001b[39m):\n\u001b[1;32m   3613\u001b[0m     \u001b[38;5;66;03m# Checks whether `compile` has been called. If it has been called,\u001b[39;00m\n\u001b[1;32m   3614\u001b[0m     \u001b[38;5;66;03m# then the optimizer is set. This is different from whether the\u001b[39;00m\n\u001b[1;32m   3615\u001b[0m     \u001b[38;5;66;03m# model is compiled\u001b[39;00m\n\u001b[1;32m   3616\u001b[0m     \u001b[38;5;66;03m# (i.e. whether the model is built and its inputs/outputs are set).\u001b[39;00m\n\u001b[1;32m   3617\u001b[0m     \u001b[38;5;28;01mif\u001b[39;00m \u001b[38;5;129;01mnot\u001b[39;00m \u001b[38;5;28mself\u001b[39m\u001b[38;5;241m.\u001b[39m_is_compiled:\n\u001b[0;32m-> 3618\u001b[0m         \u001b[38;5;28;01mraise\u001b[39;00m \u001b[38;5;167;01mRuntimeError\u001b[39;00m(\n\u001b[1;32m   3619\u001b[0m             \u001b[38;5;124m\"\u001b[39m\u001b[38;5;124mYou must compile your model before \u001b[39m\u001b[38;5;124m\"\u001b[39m\n\u001b[1;32m   3620\u001b[0m             \u001b[38;5;124m\"\u001b[39m\u001b[38;5;124mtraining/testing. \u001b[39m\u001b[38;5;124m\"\u001b[39m\n\u001b[1;32m   3621\u001b[0m             \u001b[38;5;124m\"\u001b[39m\u001b[38;5;124mUse `model.compile(optimizer, loss)`.\u001b[39m\u001b[38;5;124m\"\u001b[39m\n\u001b[1;32m   3622\u001b[0m         )\n",
      "\u001b[0;31mRuntimeError\u001b[0m: You must compile your model before training/testing. Use `model.compile(optimizer, loss)`."
     ]
    }
   ],
   "source": [
    "history = model.fit(\n",
    "    train_x, train_y,\n",
    "    validation_data=(test_x, test_y),\n",
    "    epochs=2,\n",
    "    shuffle=True,\n",
    "    batch_size=256\n",
    ")"
   ]
  },
  {
   "cell_type": "code",
   "execution_count": 32,
   "id": "cde35858-e48d-4e15-afbc-94c992bab170",
   "metadata": {},
   "outputs": [
    {
     "name": "stdout",
     "output_type": "stream",
     "text": [
      "249/249 [==============================] - 31s 125ms/step - loss: 0.0064 - accuracy: 0.9978 - val_loss: 0.0394 - val_accuracy: 0.9920\n"
     ]
    }
   ],
   "source": [
    "history = model.fit(\n",
    "    con_train_x, con_train_y,\n",
    "    validation_data=(con_test_x, con_test_y),\n",
    "    epochs=1,\n",
    "    shuffle=True,\n",
    "    batch_size=256\n",
    ")"
   ]
  },
  {
   "cell_type": "code",
   "execution_count": 42,
   "id": "efea7515-4ec3-47f5-83a7-7d7c24f543ac",
   "metadata": {},
   "outputs": [],
   "source": [
    "# model.save_weights('./final7/')"
   ]
  },
  {
   "cell_type": "code",
   "execution_count": 34,
   "id": "961f4242-b065-4076-90aa-1fb0dfe3ec65",
   "metadata": {},
   "outputs": [],
   "source": [
    "# np.argmax(all_class_prediction)"
   ]
  },
  {
   "cell_type": "code",
   "execution_count": 35,
   "id": "1d0ec203-f358-44a0-a117-afed379b6933",
   "metadata": {},
   "outputs": [],
   "source": [
    "# np.argsort(all_class_prediction)[-1]"
   ]
  },
  {
   "cell_type": "markdown",
   "id": "00a76364-5517-405e-b039-5628f036a797",
   "metadata": {
    "tags": []
   },
   "source": [
    "# Model evaluation"
   ]
  },
  {
   "cell_type": "markdown",
   "id": "09b5055c-8107-445c-a3b5-f4670afc0287",
   "metadata": {},
   "source": [
    "## Plot train_ds"
   ]
  },
  {
   "cell_type": "code",
   "execution_count": 32,
   "id": "710e0831-1a87-4bfd-b538-314c95dbba24",
   "metadata": {},
   "outputs": [],
   "source": [
    "# prediction = model.predict(train_ds)\n",
    "# model.evaluate(train_ds)\n",
    "\n",
    "# images, labels = zip(*[(x, y) for x, y in train_ds])\n",
    "# labels = np.concatenate(labels, axis=0)\n",
    "# images = np.concatenate(images, axis=0)\n",
    "# print(labels.shape, type(prediction))\n",
    "\n",
    "# wrongs = np.where(np.equal(predictions, labels) == False)[0]\n",
    "# wrongs"
   ]
  },
  {
   "cell_type": "markdown",
   "id": "57e7e76b-8231-4d92-90a5-b4acd162b150",
   "metadata": {},
   "source": [
    "## Plot test_x"
   ]
  },
  {
   "cell_type": "code",
   "execution_count": 33,
   "id": "005ab7f6-f900-44bd-b256-608e508bd7f2",
   "metadata": {},
   "outputs": [],
   "source": [
    "images, labels = test_x, test_y"
   ]
  },
  {
   "cell_type": "code",
   "execution_count": 34,
   "id": "63f258cb-c2ab-4256-bf95-c7f606ad6fc2",
   "metadata": {},
   "outputs": [
    {
     "name": "stdout",
     "output_type": "stream",
     "text": [
      "1/1 [==============================] - 0s 90ms/step\n",
      "1/1 [==============================] - 0s 21ms/step - loss: 0.2090 - accuracy: 0.9524\n",
      "(21,) <class 'numpy.ndarray'>\n",
      "[10]\n"
     ]
    }
   ],
   "source": [
    "# prediction = model.predict(train_ds)\n",
    "# model.evaluate(train_ds)\n",
    "\n",
    "prediction = model.predict(images)\n",
    "model.evaluate(images,labels)\n",
    "\n",
    "all_class_predictions = prediction\n",
    "predictions = np.argmax(prediction, axis=1)\n",
    "print(predictions.shape, type(prediction))\n",
    "\n",
    "wrongs = np.where(np.equal(predictions, labels) == False)[0]\n",
    "print(wrongs)"
   ]
  },
  {
   "cell_type": "code",
   "execution_count": 35,
   "id": "a0f5de8a-7b2e-4d62-92fe-cad9aa1eb3ce",
   "metadata": {},
   "outputs": [
    {
     "data": {
      "text/plain": [
       "(21, 21, 21, 21)"
      ]
     },
     "execution_count": 35,
     "metadata": {},
     "output_type": "execute_result"
    }
   ],
   "source": [
    "len(all_class_predictions), len(predictions), len(labels), len(images)"
   ]
  },
  {
   "cell_type": "code",
   "execution_count": 36,
   "id": "013a8621-32ce-415e-8a86-9100f96e8ca0",
   "metadata": {},
   "outputs": [
    {
     "data": {
      "image/png": "[encoded data removed]",
      "text/plain": [
       "<Figure size 1500x1800 with 1 Axes>"
      ]
     },
     "metadata": {},
     "output_type": "display_data"
    }
   ],
   "source": [
    "tup = np.asarray(list(zip(all_class_predictions, predictions, labels, images)), dtype=object)\n",
    "tup = tup[wrongs]\n",
    "\n",
    "dim = math.ceil(math.sqrt(len(tup)))\n",
    "rows = dim\n",
    "cols = dim\n",
    "fig = plt.figure(figsize=[15, 18])\n",
    "\n",
    "for i, (all_class_prediction, prediction, label, img) in enumerate(tup): \n",
    "    ax = plt.subplot(rows, cols, (i + 1))\n",
    "    # ax.get_yaxis().set_visible(False)\n",
    "    # ax.get_xaxis().set_visible(False)\n",
    "    # ax.get_xlabel().set_visible_visible(True)\n",
    "    # ax.set_xlabel()\n",
    "    # disabling xticks by Setting xticks to an empty list\n",
    "    plt.xticks([]) \n",
    "\n",
    "    # disabling yticks by setting yticks to an empty list\n",
    "    plt.yticks([]) \n",
    "    plt.imshow(img/255.)\n",
    "    # plt.axis('off')\n",
    "    plt.title(\"Pred: \" + str(prediction) + \"\\n\" + \"Label: \" + str(label) + \"\\n\" +\n",
    "             str(np.argsort(all_class_prediction)[-1]) + \": \" +\n",
    "             str(round(sorted(all_class_prediction * 100)[-1], 2)) + \" %\" + \"\\n\" + \n",
    "             str(np.argsort(all_class_prediction)[-2]) + \": \" +\n",
    "             str(round(sorted(all_class_prediction * 100)[-2], 2))  + \" %\", fontsize=10)\n",
    "    # print(softmax(all_class_prediction))\n",
    "    # print(str(round(np.max(all_class_prediction) * 100, 2)) + \" %\")\n",
    "    # plt.xlabel(\"Pred: \" + str(prediction) + \" \" + \"Label: \" + str(label), fontsize=8)\n",
    "plt.show()"
   ]
  },
  {
   "cell_type": "markdown",
   "id": "1a5269d2-c333-4c85-bd80-f3d9735f180c",
   "metadata": {},
   "source": [
    "## Plot train_x"
   ]
  },
  {
   "cell_type": "code",
   "execution_count": 37,
   "id": "9985b0f5-cb6a-4003-88d9-a3a992bb9f88",
   "metadata": {},
   "outputs": [],
   "source": [
    "images, labels = train_x, train_y"
   ]
  },
  {
   "cell_type": "code",
   "execution_count": 38,
   "id": "6d0eb93e-f89b-45fc-ab0b-925a827e7b0f",
   "metadata": {},
   "outputs": [
    {
     "name": "stdout",
     "output_type": "stream",
     "text": [
      "68/68 [==============================] - 0s 5ms/step\n",
      "68/68 [==============================] - 0s 5ms/step - loss: 0.0428 - accuracy: 0.9871\n",
      "(2170,) <class 'numpy.ndarray'>\n",
      "[  20  149  151  215  373  659  734  739  750  847  918 1008 1076 1101\n",
      " 1253 1256 1310 1439 1588 1612 1729 1791 1809 1860 1951 2065 2158 2162]\n"
     ]
    }
   ],
   "source": [
    "prediction = model.predict(images)\n",
    "model.evaluate(images,labels)\n",
    "\n",
    "all_class_predictions = prediction\n",
    "predictions = np.argmax(prediction, axis=1)\n",
    "print(predictions.shape, type(prediction))\n",
    "\n",
    "wrongs = np.where(np.equal(predictions, labels) == False)[0]\n",
    "print(wrongs)"
   ]
  },
  {
   "cell_type": "code",
   "execution_count": 39,
   "id": "00877499-9447-42c0-858f-934b11a30025",
   "metadata": {},
   "outputs": [
    {
     "data": {
      "text/plain": [
       "(2170, 2170, 2170, 2170)"
      ]
     },
     "execution_count": 39,
     "metadata": {},
     "output_type": "execute_result"
    }
   ],
   "source": [
    "len(all_class_predictions), len(predictions), len(labels), len(images)"
   ]
  },
  {
   "cell_type": "code",
   "execution_count": 40,
   "id": "e1a7f8c1-c4f4-46ee-bf6c-b7887c7a4e89",
   "metadata": {},
   "outputs": [
    {
     "data": {
      "image/png": "[encoded data removed]",
      "text/plain": [
       "<Figure size 1500x1800 with 28 Axes>"
      ]
     },
     "metadata": {},
     "output_type": "display_data"
    }
   ],
   "source": [
    "tup = np.asarray(list(zip(all_class_predictions, predictions, labels, images)), dtype=object)\n",
    "tup = tup[wrongs]\n",
    "\n",
    "dim = math.ceil(math.sqrt(len(tup)))\n",
    "rows = dim\n",
    "cols = dim\n",
    "fig = plt.figure(figsize=[15, 18])\n",
    "\n",
    "for i, (all_class_prediction, prediction, label, img) in enumerate(tup): \n",
    "    ax = plt.subplot(rows, cols, (i + 1))\n",
    "    # ax.get_yaxis().set_visible(False)\n",
    "    # ax.get_xaxis().set_visible(False)\n",
    "    # ax.get_xlabel().set_visible_visible(True)\n",
    "    # ax.set_xlabel()\n",
    "    # disabling xticks by Setting xticks to an empty list\n",
    "    plt.xticks([]) \n",
    "\n",
    "    # disabling yticks by setting yticks to an empty list\n",
    "    plt.yticks([]) \n",
    "    plt.imshow(img/255.)\n",
    "    # plt.axis('off')\n",
    "    plt.title(\"Pred: \" + str(prediction) + \"\\n\" + \"Label: \" + str(label) + \"\\n\" +\n",
    "             str(np.argsort(all_class_prediction)[-1]) + \": \" +\n",
    "             str(round(sorted(all_class_prediction * 100)[-1], 2)) + \" %\" + \"\\n\" + \n",
    "             str(np.argsort(all_class_prediction)[-2]) + \": \" +\n",
    "             str(round(sorted(all_class_prediction * 100)[-2], 2))  + \" %\", fontsize=10)\n",
    "    # print(softmax(all_class_prediction))\n",
    "    # print(str(round(np.max(all_class_prediction) * 100, 2)) + \" %\")\n",
    "    # plt.xlabel(\"Pred: \" + str(prediction) + \" \" + \"Label: \" + str(label), fontsize=8)\n",
    "plt.show()"
   ]
  },
  {
   "cell_type": "markdown",
   "id": "c83cf8b0-8813-4b67-8695-510050c6eeb1",
   "metadata": {},
   "source": [
    "# Image prediction"
   ]
  },
  {
   "cell_type": "markdown",
   "id": "1e152845-e42b-47cf-b681-915d9e97d852",
   "metadata": {
    "tags": []
   },
   "source": [
    "## Clear the folders of results"
   ]
  },
  {
   "cell_type": "code",
   "execution_count": 41,
   "id": "a8ab0d3a-a14d-4ee9-bb24-d21713f29200",
   "metadata": {},
   "outputs": [],
   "source": [
    "import glob"
   ]
  },
  {
   "cell_type": "markdown",
   "id": "04c749b5-c363-4b0f-a028-e2f34774f1f9",
   "metadata": {},
   "source": [
    "### Numberplate"
   ]
  },
  {
   "cell_type": "code",
   "execution_count": 55,
   "id": "7d76b77e-ea48-437f-af87-a4717c5a05b4",
   "metadata": {},
   "outputs": [],
   "source": [
    "root = \"result_2/\""
   ]
  },
  {
   "cell_type": "code",
   "execution_count": 56,
   "id": "9b019cf4-ebe7-40a0-9502-67445935bab3",
   "metadata": {},
   "outputs": [],
   "source": [
    "paths = [di for di in glob.glob(root + \"*\") if os.path.isfile(di)]"
   ]
  },
  {
   "cell_type": "code",
   "execution_count": 57,
   "id": "743450c9-655b-47ba-aa0c-7c7a38b14912",
   "metadata": {
    "tags": []
   },
   "outputs": [
    {
     "data": {
      "text/plain": [
       "['result_2/196_13695_458.jpg', 'result_2/126_13692_470.jpg']"
      ]
     },
     "execution_count": 57,
     "metadata": {},
     "output_type": "execute_result"
    }
   ],
   "source": [
    "paths[:2]"
   ]
  },
  {
   "cell_type": "code",
   "execution_count": 58,
   "id": "0781f8b4-5aba-4c30-af9c-c072e87f5d8b",
   "metadata": {},
   "outputs": [],
   "source": [
    "for filename in paths:\n",
    "    os.remove(filename)"
   ]
  },
  {
   "cell_type": "markdown",
   "id": "6285d3e3-e99f-4d50-9c08-832ada1e7a19",
   "metadata": {},
   "source": [
    "### Numbers"
   ]
  },
  {
   "cell_type": "code",
   "execution_count": 59,
   "id": "e71f3a92-ed41-49de-81a4-cda66d7957f7",
   "metadata": {},
   "outputs": [],
   "source": [
    "root = \"result_5/\""
   ]
  },
  {
   "cell_type": "code",
   "execution_count": 60,
   "id": "6cbbb15a-3add-47c4-9efb-343f1ed2d158",
   "metadata": {},
   "outputs": [],
   "source": [
    "paths = [di + \"/\" for di in glob.glob(root + \"*\") if os.path.isdir(di)]"
   ]
  },
  {
   "cell_type": "code",
   "execution_count": 61,
   "id": "c8a02616-c484-49be-b6d7-97582d7e82a6",
   "metadata": {},
   "outputs": [
    {
     "data": {
      "text/plain": [
       "['result_5/1/', 'result_5/4/']"
      ]
     },
     "execution_count": 61,
     "metadata": {},
     "output_type": "execute_result"
    }
   ],
   "source": [
    "paths[:2]"
   ]
  },
  {
   "cell_type": "code",
   "execution_count": 62,
   "id": "ce69bc08-2714-40c0-8830-7a8cab5fba73",
   "metadata": {},
   "outputs": [],
   "source": [
    "for folder in paths:\n",
    "    filenames = glob.glob(folder + \"*.jpg\")\n",
    "    for filename in filenames:\n",
    "        os.remove(filename)"
   ]
  },
  {
   "cell_type": "markdown",
   "id": "412aa6bb-3753-4841-9e77-3101c071a77b",
   "metadata": {},
   "source": [
    "### Intermediate results"
   ]
  },
  {
   "cell_type": "code",
   "execution_count": 63,
   "id": "4997703c-0ca7-43df-b056-1891d1ec8999",
   "metadata": {},
   "outputs": [],
   "source": [
    "root = \"intermediate_results/\""
   ]
  },
  {
   "cell_type": "code",
   "execution_count": 64,
   "id": "525616ee-5c3a-404b-947b-6b6b1a044b12",
   "metadata": {},
   "outputs": [],
   "source": [
    "paths = [di + \"/\" for di in glob.glob(root + \"*\") if os.path.isdir(di)]"
   ]
  },
  {
   "cell_type": "code",
   "execution_count": 65,
   "id": "bf1104f7-3a34-4e09-9d7b-d31044f226c8",
   "metadata": {},
   "outputs": [
    {
     "data": {
      "text/plain": [
       "['intermediate_results/0_balanced_images/',\n",
       " 'intermediate_results/2_resized_and_sharp_images/']"
      ]
     },
     "execution_count": 65,
     "metadata": {},
     "output_type": "execute_result"
    }
   ],
   "source": [
    "paths[:2]"
   ]
  },
  {
   "cell_type": "code",
   "execution_count": 66,
   "id": "5dbc204d-944c-4cd9-8028-eb50447c372d",
   "metadata": {},
   "outputs": [],
   "source": [
    "for folder in paths:\n",
    "    filenames = glob.glob(folder + \"*.jpg\")\n",
    "    for filename in filenames:\n",
    "        os.remove(filename)"
   ]
  },
  {
   "cell_type": "code",
   "execution_count": null,
   "id": "94548c06-0349-4105-b097-84ea74809168",
   "metadata": {},
   "outputs": [],
   "source": []
  },
  {
   "cell_type": "code",
   "execution_count": 42,
   "id": "387e5e6e-7a2f-4ec0-a920-809966ea0685",
   "metadata": {},
   "outputs": [],
   "source": [
    "import datetime\n",
    "\n",
    "from tflite_support.task import core\n",
    "from tflite_support.task import processor\n",
    "from helper_functions import *\n",
    "import cv2\n",
    "from tqdm import tqdm"
   ]
  },
  {
   "cell_type": "code",
   "execution_count": 43,
   "id": "2c54d945-2d82-4f12-8f11-044870803e16",
   "metadata": {},
   "outputs": [],
   "source": [
    "VERBOSE = False"
   ]
  },
  {
   "cell_type": "code",
   "execution_count": 56,
   "id": "9829fd34-164b-48fb-a7fd-c3ecfa4b7d81",
   "metadata": {},
   "outputs": [],
   "source": [
    "#Image paths\n",
    "SOURCE_IMG_PATH = \"./images/\"\n",
    "RESULT_IMG_PATH = \"./results/\"\n",
    "\n",
    "#Parameters of object detection\n",
    "WIDTH = 1000\n",
    "HEIGHT = 140\n",
    "DIM = (WIDTH, HEIGHT)\n",
    "NUM_THREADS = 10\n",
    "# DETECTOR_PATH = './numberplate_detector.tflite'\n",
    "DETECTOR_PATH = './object_detector/object_detector.tflite'\n",
    "\n",
    "#Parameters of balancing algorithm (Hugh Lines)\n",
    "balancing_cycles = 3\n",
    "\n",
    "#Parameters of sharpener algorithm\n",
    "tb_w = 70\n",
    "tb_th = 0\n",
    "tb_blur_size = 10\n",
    "tb_blur_sigma = 50\n",
    "\n",
    "#Adaptive threshold and blur\n",
    "blockSize = 65\n",
    "k = 0.5\n",
    "\n",
    "#Contours\n",
    "h_min = 60\n",
    "w_min = 25\n",
    "w_max = 120\n",
    "x_min = 30\n",
    "x_max = 400\n",
    "y_min = 15\n",
    "y_max = 135\n",
    "h_w_ratio_max = 3.99\n",
    "h_w_ratio_min = 1.0\n",
    "\n",
    "\n",
    "#Tensorflow image classification model\n",
    "# CHECKPOINT_PATH = \"./final/\"\n",
    "# IMG_WIDTH = 28\n",
    "# IMG_HEIGHT = 28"
   ]
  },
  {
   "cell_type": "code",
   "execution_count": 67,
   "id": "a3919ac3-5460-404f-9876-96b5a106e703",
   "metadata": {},
   "outputs": [],
   "source": [
    "def analyze(image, detector, filename):\n",
    "\n",
    "    greyscale_image = cv2.cvtColor(image, cv2.COLOR_BGR2GRAY)\n",
    "\n",
    "    #Balance image\n",
    "    balanced_image = balancing_tilted_image(image, greyscale_image, balancing_cycles)\n",
    "    cv2.imwrite(f'./results/balanced_' + filename, balanced_image)\n",
    "    # cv2.imread('Imgae', balanced_image)\n",
    "    # cv2.waitKey(0)\n",
    "    \n",
    "    #Object detection and crop detected area\n",
    "    detected_image = detect_numberplate(detector, balanced_image)\n",
    "    cv2.imwrite(f'./results/detected_' + filename, detected_image)\n",
    "    # cv2.imread('Imgae', detected_image)\n",
    "    # cv2.waitKey(0)\n",
    "\n",
    "    #Resize and sharpen image\n",
    "    resized_sharp_image = resize_and_sharpen_image(detected_image, DIM, tb_w, tb_th, tb_blur_size, tb_blur_sigma)\n",
    "    cv2.imwrite(f'./results/sharpened_resized_' + filename, resized_sharp_image)\n",
    "    # cv2.imread('Imgae', resized_sharp_image)\n",
    "    # cv2.waitKey(0)\n",
    "\n",
    "    #Niblack threshold and medianblur\n",
    "    threshold_image = adaptive_threshold_and_median_blur(resized_sharp_image, blockSize, k)\n",
    "    cv2.imwrite(f'./results/threshold_' + filename, threshold_image)\n",
    "    # cv2.imread('Imgae', threshold_image)\n",
    "    # cv2.waitKey(0)\n",
    "\n",
    "\n",
    "    IMG_WIDTH = model.layers[0].input_shape[1]\n",
    "    IMG_HEIGHT = model.layers[0].input_shape[2]\n",
    "\n",
    "    #Contours and clip image into 8 pieces\n",
    "    image_list, threshold_im = find_contours(threshold_image, resized_sharp_image, IMG_WIDTH, IMG_HEIGHT, h_min=h_min, w_min=w_min, w_max=w_max, x_min=x_min, x_max=x_max, h_w_ratio_max=h_w_ratio_max, h_w_ratio_min=h_w_ratio_min, y_min=y_min, y_max=y_max)\n",
    "    cv2.imwrite(f'./results/contour_' + filename, threshold_im)\n",
    "    \n",
    "    \n",
    "    # print(tf.image.rgb_to_grayscale(image_list))\n",
    "    # tensor = tf.convert_to_tensor(image_list)\n",
    "    tensor = tf.image.rgb_to_grayscale(image_list)\n",
    "    prediction_array = np.argmax(model.predict(tensor, verbose=False), axis=1)\n",
    "    prediction_str = ''.join([str(num) for num in prediction_array])\n",
    "    \n",
    "    for i, im in enumerate(image_list):\n",
    "        cv2.imwrite(f'./results/' + f'_l{i}_' + filename, im)\n",
    "        # cv2.imread('Imgae', im)\n",
    "        # cv2.waitKey(0)\n",
    "    \n",
    "    return prediction_str, resized_sharp_image, image_list"
   ]
  },
  {
   "cell_type": "code",
   "execution_count": 68,
   "id": "5b6474f2-86cd-412e-b821-8cba45ab6d69",
   "metadata": {},
   "outputs": [],
   "source": [
    "def normalize_image(image, img_width, img_height):\n",
    "    # image = image / 255.\n",
    "    image = cv2.resize(image, (img_width, img_height), interpolation=cv2.INTER_LANCZOS4)\n",
    "    return image"
   ]
  },
  {
   "cell_type": "code",
   "execution_count": 69,
   "id": "5e311b77-e946-45af-8e3a-99b372100032",
   "metadata": {
    "tags": []
   },
   "outputs": [
    {
     "name": "stderr",
     "output_type": "stream",
     "text": [
      "100%|██████████████████████████████████████████████████████████████████████████████████████████████| 1/1 [00:00<00:00,  2.64it/s]\n"
     ]
    }
   ],
   "source": [
    "base_options = core.BaseOptions(\n",
    "    file_name=DETECTOR_PATH, use_coral=False, num_threads=NUM_THREADS)\n",
    "detection_options = processor.DetectionOptions(\n",
    "    max_results=3, score_threshold=0.1)\n",
    "options = vision.ObjectDetectorOptions(\n",
    "    base_options=base_options, detection_options=detection_options)\n",
    "detector = vision.ObjectDetector.create_from_options(options)\n",
    "\n",
    "\n",
    "path_list = [SOURCE_IMG_PATH + file for file in os.listdir(SOURCE_IMG_PATH) if '.png' in file]\n",
    "filename_list = [file for file in os.listdir(SOURCE_IMG_PATH) if '.png' in file]\n",
    "\n",
    "skipped_images = []\n",
    "\n",
    "for i, img_path in tqdm(enumerate(path_list), total=len(path_list)):\n",
    "    try:\n",
    "        image = cv2.imread(img_path, cv2.IMREAD_COLOR)\n",
    "        pred, img, image_list = analyze(image, detector, filename_list[i])\n",
    "        cv2.imwrite(RESULT_IMG_PATH + f\"{i}_\" + pred[:-3] + \"_\" + pred[-3:] + \".jpg\", img)\n",
    "\n",
    "        with open(RESULT_IMG_PATH + \"result_images.csv\", 'a') as f:\n",
    "            # f.write(f\"{datetime.datetime.now()}, {pred}\\n\")\n",
    "            f.write(f\"{filename_list[i]}, {pred}\\n\")\n",
    "    except Exception as e:\n",
    "        print(img_path, e)\n",
    "        skipped_images.append(img_path)\n",
    "        try:\n",
    "            cv2.imwrite(\"Unprocessed_images/\" + f\"{filename_list[i]}_\" + \".jpg\", image)\n",
    "        except Exception as exc:\n",
    "            print(exc, \"--------------\")"
   ]
  },
  {
   "cell_type": "markdown",
   "id": "3a4b43d7-c306-4966-ad43-0fcff6d27c04",
   "metadata": {
    "tags": []
   },
   "source": [
    "## Display unprocessed images"
   ]
  },
  {
   "cell_type": "code",
   "execution_count": 48,
   "id": "497210e9-5a1f-46b5-8ff0-bb4a300321aa",
   "metadata": {},
   "outputs": [
    {
     "data": {
      "text/plain": [
       "<Figure size 1500x1800 with 0 Axes>"
      ]
     },
     "metadata": {},
     "output_type": "display_data"
    }
   ],
   "source": [
    "dim = math.ceil(math.sqrt(len(skipped_images)))\n",
    "rows = dim\n",
    "cols = dim\n",
    "fig = plt.figure(figsize=[15, 18])\n",
    "\n",
    "for i, img_path in enumerate(skipped_images): \n",
    "    img = cv2.imread(img_path)\n",
    "    ax = plt.subplot(rows, cols, (i + 1))\n",
    "    plt.xticks([]) \n",
    "    plt.yticks([]) \n",
    "    plt.imshow(img/255.)\n",
    "plt.show()"
   ]
  },
  {
   "cell_type": "markdown",
   "id": "ad23e0d8-7a0a-49f6-98d1-d4f9f36a1b5d",
   "metadata": {
    "tags": []
   },
   "source": [
    "# Convert model to .tflite"
   ]
  },
  {
   "cell_type": "code",
   "execution_count": 66,
   "id": "75a1b64d-e07c-4a42-a6a1-1e60264cdf70",
   "metadata": {},
   "outputs": [],
   "source": [
    "# converter = tf.lite.TFLiteConverter.from_saved_model(saved_model_dir)\n",
    "# converter = tf.lite.TFLiteConverter.from_keras_model(model)"
   ]
  },
  {
   "cell_type": "code",
   "execution_count": 75,
   "id": "c815c929-bd67-4ba5-bc97-f87e39f9ed83",
   "metadata": {},
   "outputs": [],
   "source": [
    "# tflite_model = converter.convert()"
   ]
  },
  {
   "cell_type": "code",
   "execution_count": 76,
   "id": "916bef06-46b7-4026-affc-ccea04947e86",
   "metadata": {},
   "outputs": [],
   "source": [
    "# with open('model.tflite', 'wb') as f:\n",
    "#   f.write(tflite_model)"
   ]
  },
  {
   "cell_type": "markdown",
   "id": "9be54122-8fe5-4205-bc1c-934a621d7255",
   "metadata": {
    "jp-MarkdownHeadingCollapsed": true
   },
   "source": [
    "# Analyzing csv data"
   ]
  },
  {
   "cell_type": "markdown",
   "id": "69b37610-c416-48e2-ab97-00456f21a1e4",
   "metadata": {},
   "source": [
    "## Load csv data"
   ]
  },
  {
   "cell_type": "code",
   "execution_count": 56,
   "id": "ca6b71ac-56b4-4173-98ab-921947179f5d",
   "metadata": {},
   "outputs": [],
   "source": [
    "import datetime"
   ]
  },
  {
   "cell_type": "code",
   "execution_count": 57,
   "id": "1b9b1e09-e631-4aea-adc5-0cbc7fa6412c",
   "metadata": {},
   "outputs": [],
   "source": [
    "# df = pd.read_csv('./result_2/result_images.csv', header=None)\n",
    "df = pd.read_csv('./result_2/result_images.csv', header=None)"
   ]
  },
  {
   "cell_type": "markdown",
   "id": "5bc2aa29-e855-4ec9-b0de-f6c51fbe17fd",
   "metadata": {},
   "source": [
    "## Sort data by time "
   ]
  },
  {
   "cell_type": "code",
   "execution_count": 58,
   "id": "3af17a0c-4c9a-405b-8aef-4fc8ad9ebd8a",
   "metadata": {},
   "outputs": [],
   "source": [
    "df_sorted = df.sort_values(by=0)"
   ]
  },
  {
   "cell_type": "markdown",
   "id": "6cf085fd-bf78-485b-b479-7e701abc1e95",
   "metadata": {},
   "source": [
    "## Selecting data by value"
   ]
  },
  {
   "cell_type": "code",
   "execution_count": 59,
   "id": "e2b57032-9be9-4c1f-af07-5ab365a4ed51",
   "metadata": {},
   "outputs": [],
   "source": [
    "MIN_VAL = 13688876\n",
    "MAX_VAL = 13800000\n",
    "# MIN_VAL = 1\n",
    "# MAX_VAL = 99999999"
   ]
  },
  {
   "cell_type": "code",
   "execution_count": 60,
   "id": "e4a9b6d0-28e8-47de-a15d-f852c9777474",
   "metadata": {},
   "outputs": [],
   "source": [
    "df_sorted = df_sorted[df_sorted[1] > MIN_VAL]\n",
    "df_sorted = df_sorted[df_sorted[1] < MAX_VAL]"
   ]
  },
  {
   "cell_type": "code",
   "execution_count": 61,
   "id": "587c7a15-d240-426c-b063-31e510844bbe",
   "metadata": {},
   "outputs": [],
   "source": [
    "df_sorted[1] = df_sorted[1].apply(lambda x: x/1000.)"
   ]
  },
  {
   "cell_type": "code",
   "execution_count": 62,
   "id": "d5bfc6e5-f726-4c0e-9046-be689d4d7f24",
   "metadata": {},
   "outputs": [
    {
     "data": {
      "text/html": [
       "<div>\n",
       "<style scoped>\n",
       "    .dataframe tbody tr th:only-of-type {\n",
       "        vertical-align: middle;\n",
       "    }\n",
       "\n",
       "    .dataframe tbody tr th {\n",
       "        vertical-align: top;\n",
       "    }\n",
       "\n",
       "    .dataframe thead th {\n",
       "        text-align: right;\n",
       "    }\n",
       "</style>\n",
       "<table border=\"1\" class=\"dataframe\">\n",
       "  <thead>\n",
       "    <tr style=\"text-align: right;\">\n",
       "      <th></th>\n",
       "      <th>0</th>\n",
       "      <th>1</th>\n",
       "    </tr>\n",
       "  </thead>\n",
       "  <tbody>\n",
       "    <tr>\n",
       "      <th>123</th>\n",
       "      <td>2022-11-03T19:46:39_304+02:00.jpg</td>\n",
       "      <td>13688.891</td>\n",
       "    </tr>\n",
       "    <tr>\n",
       "      <th>83</th>\n",
       "      <td>2022-11-03T19:51:39_158+02:00.jpg</td>\n",
       "      <td>13688.982</td>\n",
       "    </tr>\n",
       "  </tbody>\n",
       "</table>\n",
       "</div>"
      ],
      "text/plain": [
       "                                     0          1\n",
       "123  2022-11-03T19:46:39_304+02:00.jpg  13688.891\n",
       "83   2022-11-03T19:51:39_158+02:00.jpg  13688.982"
      ]
     },
     "execution_count": 62,
     "metadata": {},
     "output_type": "execute_result"
    }
   ],
   "source": [
    "df_sorted.head(2)"
   ]
  },
  {
   "cell_type": "code",
   "execution_count": 63,
   "id": "736cf9dc-f62c-433c-8655-bf11fe05ae0c",
   "metadata": {},
   "outputs": [
    {
     "data": {
      "image/png": "[encoded data removed]",
      "text/plain": [
       "<Figure size 432x288 with 1 Axes>"
      ]
     },
     "metadata": {
      "needs_background": "light"
     },
     "output_type": "display_data"
    }
   ],
   "source": [
    "plt.plot(list(df_sorted[1]))\n",
    "plt.show()"
   ]
  },
  {
   "cell_type": "code",
   "execution_count": 64,
   "id": "9571acf6-70f3-4b71-b3c2-ba288b7e9b7d",
   "metadata": {},
   "outputs": [
    {
     "data": {
      "text/html": [
       "<div>\n",
       "<style scoped>\n",
       "    .dataframe tbody tr th:only-of-type {\n",
       "        vertical-align: middle;\n",
       "    }\n",
       "\n",
       "    .dataframe tbody tr th {\n",
       "        vertical-align: top;\n",
       "    }\n",
       "\n",
       "    .dataframe thead th {\n",
       "        text-align: right;\n",
       "    }\n",
       "</style>\n",
       "<table border=\"1\" class=\"dataframe\">\n",
       "  <thead>\n",
       "    <tr style=\"text-align: right;\">\n",
       "      <th></th>\n",
       "      <th>0</th>\n",
       "      <th>1</th>\n",
       "    </tr>\n",
       "  </thead>\n",
       "  <tbody>\n",
       "    <tr>\n",
       "      <th>123</th>\n",
       "      <td>2022-11-03T19:46:39_304+02:00.jpg</td>\n",
       "      <td>13688.891</td>\n",
       "    </tr>\n",
       "    <tr>\n",
       "      <th>83</th>\n",
       "      <td>2022-11-03T19:51:39_158+02:00.jpg</td>\n",
       "      <td>13688.982</td>\n",
       "    </tr>\n",
       "    <tr>\n",
       "      <th>174</th>\n",
       "      <td>2022-11-03T19:56:39_297+02:00.jpg</td>\n",
       "      <td>13689.163</td>\n",
       "    </tr>\n",
       "    <tr>\n",
       "      <th>223</th>\n",
       "      <td>2022-11-03T20:01:39_155+02:00.jpg</td>\n",
       "      <td>13689.280</td>\n",
       "    </tr>\n",
       "    <tr>\n",
       "      <th>249</th>\n",
       "      <td>2022-11-03T20:06:39_166+02:00.jpg</td>\n",
       "      <td>13689.356</td>\n",
       "    </tr>\n",
       "    <tr>\n",
       "      <th>...</th>\n",
       "      <td>...</td>\n",
       "      <td>...</td>\n",
       "    </tr>\n",
       "    <tr>\n",
       "      <th>179</th>\n",
       "      <td>2022-11-05T01:25:33_606+02:00.jpg</td>\n",
       "      <td>13696.475</td>\n",
       "    </tr>\n",
       "    <tr>\n",
       "      <th>230</th>\n",
       "      <td>2022-11-05T01:30:33_597+02:00.jpg</td>\n",
       "      <td>13696.475</td>\n",
       "    </tr>\n",
       "    <tr>\n",
       "      <th>137</th>\n",
       "      <td>2022-11-05T01:35:33_565+02:00.jpg</td>\n",
       "      <td>13696.475</td>\n",
       "    </tr>\n",
       "    <tr>\n",
       "      <th>49</th>\n",
       "      <td>2022-11-05T01:40:33_609+02:00.jpg</td>\n",
       "      <td>13696.475</td>\n",
       "    </tr>\n",
       "    <tr>\n",
       "      <th>181</th>\n",
       "      <td>2022-11-05T01:55:33_633+02:00.jpg</td>\n",
       "      <td>13696.475</td>\n",
       "    </tr>\n",
       "  </tbody>\n",
       "</table>\n",
       "<p>237 rows × 2 columns</p>\n",
       "</div>"
      ],
      "text/plain": [
       "                                     0          1\n",
       "123  2022-11-03T19:46:39_304+02:00.jpg  13688.891\n",
       "83   2022-11-03T19:51:39_158+02:00.jpg  13688.982\n",
       "174  2022-11-03T19:56:39_297+02:00.jpg  13689.163\n",
       "223  2022-11-03T20:01:39_155+02:00.jpg  13689.280\n",
       "249  2022-11-03T20:06:39_166+02:00.jpg  13689.356\n",
       "..                                 ...        ...\n",
       "179  2022-11-05T01:25:33_606+02:00.jpg  13696.475\n",
       "230  2022-11-05T01:30:33_597+02:00.jpg  13696.475\n",
       "137  2022-11-05T01:35:33_565+02:00.jpg  13696.475\n",
       "49   2022-11-05T01:40:33_609+02:00.jpg  13696.475\n",
       "181  2022-11-05T01:55:33_633+02:00.jpg  13696.475\n",
       "\n",
       "[237 rows x 2 columns]"
      ]
     },
     "execution_count": 64,
     "metadata": {},
     "output_type": "execute_result"
    }
   ],
   "source": [
    "df_sorted"
   ]
  },
  {
   "cell_type": "markdown",
   "id": "871fae69-2fd9-453c-a9c5-585e76fe6177",
   "metadata": {},
   "source": [
    "## Creating timestamp from filenames"
   ]
  },
  {
   "cell_type": "code",
   "execution_count": 65,
   "id": "2b8a6c0c-84db-4a45-bd1c-b4a47dac9248",
   "metadata": {},
   "outputs": [],
   "source": [
    "def timestamp_from_date(string) -> int:\n",
    "    daymonth, time = string[:-10].split('T')\n",
    "    year, month, day = daymonth.split('-')\n",
    "    h, m ,sms = time.split(':')\n",
    "    s, ms = sms.split('_')\n",
    "    x_datetime = datetime.datetime(int(year),int(month),int(day),int(h),int(m),int(s),int(ms))\n",
    "    return datetime.datetime.timestamp(x_datetime)"
   ]
  },
  {
   "cell_type": "code",
   "execution_count": 66,
   "id": "c19a51bc-d3a1-490a-93a6-b3edaec1aaa3",
   "metadata": {},
   "outputs": [],
   "source": [
    "df_sorted[\"stamp\"] = df_sorted[0].apply(timestamp_from_date)"
   ]
  },
  {
   "cell_type": "code",
   "execution_count": 67,
   "id": "55ceba46-5a83-4225-b5ae-13f04efce28a",
   "metadata": {},
   "outputs": [],
   "source": [
    "df_sorted['datetime'] = df_sorted['stamp'].apply(lambda x: datetime.datetime.fromtimestamp(x))"
   ]
  },
  {
   "cell_type": "code",
   "execution_count": 68,
   "id": "0428cbb3-6b19-4d80-9d66-c1fe9b97e507",
   "metadata": {
    "tags": []
   },
   "outputs": [
    {
     "data": {
      "text/plain": [
       "<matplotlib.collections.PathCollection at 0x7fb5f8d3d8b0>"
      ]
     },
     "execution_count": 68,
     "metadata": {},
     "output_type": "execute_result"
    },
    {
     "data": {
      "image/png": "[encoded data removed]",
      "text/plain": [
       "<Figure size 1080x720 with 1 Axes>"
      ]
     },
     "metadata": {
      "needs_background": "light"
     },
     "output_type": "display_data"
    }
   ],
   "source": [
    "import matplotlib.pyplot as plt\n",
    "from matplotlib.ticker import (AutoMinorLocator, MultipleLocator)\n",
    "\n",
    "fig, ax = plt.subplots(figsize=(15, 10))\n",
    "\n",
    "# Set axis ranges; by default this will put major ticks every 25.\n",
    "# ax.set_xlim(0, 200)\n",
    "# ax.set_ylim(0, 200)\n",
    "\n",
    "# Change major ticks to show every 20.\n",
    "ax.xaxis.set_major_locator(MultipleLocator(1))\n",
    "ax.yaxis.set_major_locator(MultipleLocator(2))\n",
    "\n",
    "# # Change minor ticks to show every 5. (20/4 = 5)\n",
    "ax.xaxis.set_minor_locator(AutoMinorLocator(50))\n",
    "ax.yaxis.set_minor_locator(AutoMinorLocator(5))\n",
    "\n",
    "# Turn grid on for both major and minor ticks and style minor slightly\n",
    "# differently.\n",
    "ax.grid(which='major', color='#CCCCCC', linestyle='--')\n",
    "ax.grid(which='minor', color='#CCCCCC', linestyle=':')\n",
    "\n",
    "ax.scatter(df_sorted[\"datetime\"], df_sorted[1])"
   ]
  },
  {
   "cell_type": "code",
   "execution_count": 69,
   "id": "fe71b025-c1d5-4014-b044-ce8b20a3d0fa",
   "metadata": {},
   "outputs": [
    {
     "data": {
      "image/png": "[encoded data removed]",
      "text/plain": [
       "<Figure size 1080x720 with 1 Axes>"
      ]
     },
     "metadata": {
      "needs_background": "light"
     },
     "output_type": "display_data"
    }
   ],
   "source": [
    "plt.figure(figsize=(15,10))\n",
    "plt.scatter(df_sorted[\"datetime\"], df_sorted[1])\n",
    "# for line in daylines:\n",
    "    # plt.axvline(x = daylines, color = 'gray', label = 'axvline - full height')\n",
    "    # plt.text(10.1,0,'blah',rotation=90)\n",
    "plt.grid()\n",
    "plt.xlabel('Date')\n",
    "plt.ylabel('values')\n",
    "plt.show()"
   ]
  },
  {
   "cell_type": "markdown",
   "id": "ee337f96-77e8-4019-b5a4-063c74603ed0",
   "metadata": {},
   "source": [
    "## Clean data"
   ]
  },
  {
   "cell_type": "code",
   "execution_count": 70,
   "id": "f5bc2c85-bf3c-4170-9578-c83b8583a55d",
   "metadata": {},
   "outputs": [],
   "source": [
    "tu = list(zip(df_sorted[0],list(df_sorted[1])))"
   ]
  },
  {
   "cell_type": "code",
   "execution_count": 71,
   "id": "9262edc2-5ce6-49a0-a4b0-9b60bb20e292",
   "metadata": {},
   "outputs": [
    {
     "data": {
      "text/plain": [
       "('2022-11-03T19:46:39_304+02:00.jpg', 13688.891)"
      ]
     },
     "execution_count": 71,
     "metadata": {},
     "output_type": "execute_result"
    }
   ],
   "source": [
    "tu[0]"
   ]
  },
  {
   "cell_type": "code",
   "execution_count": 72,
   "id": "d9b20c3c-2ab6-4644-b59f-1068787110f7",
   "metadata": {},
   "outputs": [],
   "source": [
    "clean = []\n",
    "for i,t in enumerate(tu):\n",
    "    if i == 0 or i == len(tu)-1:\n",
    "        continue\n",
    "    else:\n",
    "        current = tu[i][1]\n",
    "        left_nb = tu[i-1][1]\n",
    "        right_nb = tu[i+1][1]\n",
    "        \n",
    "        diff_left = current- left_nb\n",
    "        diff_right = right_nb - current\n",
    "        if diff_left >= 0 and diff_left < 1 and \\\n",
    "            diff_right >= 0 and diff_right < 1:\n",
    "            clean.append(t)\n",
    "       "
   ]
  },
  {
   "cell_type": "code",
   "execution_count": 73,
   "id": "a1cd2c45-3d00-4899-9d95-6b90c48de08e",
   "metadata": {},
   "outputs": [
    {
     "data": {
      "text/plain": [
       "(237, 208)"
      ]
     },
     "execution_count": 73,
     "metadata": {},
     "output_type": "execute_result"
    }
   ],
   "source": [
    "len(tu), len(clean)"
   ]
  },
  {
   "cell_type": "code",
   "execution_count": 74,
   "id": "2e17b05f-8e95-4272-8341-3d37a2fcd780",
   "metadata": {
    "tags": []
   },
   "outputs": [],
   "source": [
    "# list(set(tu) - set(clean))"
   ]
  },
  {
   "cell_type": "code",
   "execution_count": 75,
   "id": "7b31a611-56bd-4607-bd46-81252af318ec",
   "metadata": {},
   "outputs": [
    {
     "name": "stdout",
     "output_type": "stream",
     "text": [
      "208 --- 208 --- 13688.982 --- 2022-11-03T19:51:39_158+02:00.jpg\n"
     ]
    }
   ],
   "source": [
    "filenames, results = zip(*clean)\n",
    "print(len(results),\"---\",len(filenames),\"---\", results[0],\"---\", filenames[0])"
   ]
  },
  {
   "cell_type": "markdown",
   "id": "ab35e51c-b66e-4160-b661-372b9b9042bf",
   "metadata": {},
   "source": [
    "## Create new dataframe with extra columns (year,month,day etc.)"
   ]
  },
  {
   "cell_type": "code",
   "execution_count": 76,
   "id": "f64936ad-a62b-4385-a184-fc077f842a69",
   "metadata": {},
   "outputs": [],
   "source": [
    "df_cleaned = pd.DataFrame()\n",
    "df_cleaned[\"filenames\"] = filenames\n",
    "df_cleaned[\"measured_values\"] = results"
   ]
  },
  {
   "cell_type": "code",
   "execution_count": 77,
   "id": "9c321cda-04f4-476f-99d6-c772c27482c1",
   "metadata": {},
   "outputs": [],
   "source": [
    "df_cleaned[\"stamp\"] = df_cleaned[\"filenames\"].apply(timestamp_from_date)\n",
    "df_cleaned[\"year\"] = df_cleaned[\"stamp\"].apply(lambda x: datetime.datetime.fromtimestamp(x).year)\n",
    "df_cleaned[\"month\"] = df_cleaned[\"stamp\"].apply(lambda x: datetime.datetime.fromtimestamp(x).month)\n",
    "df_cleaned[\"day\"] = df_cleaned[\"stamp\"].apply(lambda x: datetime.datetime.fromtimestamp(x).day)\n",
    "\n",
    "df_cleaned[\"hour\"] = df_cleaned[\"stamp\"].apply(lambda x: datetime.datetime.fromtimestamp(x).hour)\n",
    "df_cleaned[\"minute\"] = df_cleaned[\"stamp\"].apply(lambda x: datetime.datetime.fromtimestamp(x).minute)\n",
    "df_cleaned[\"second\"] = df_cleaned[\"stamp\"].apply(lambda x: datetime.datetime.fromtimestamp(x).second)\n",
    "\n",
    "df_cleaned[\"ms\"] = df_cleaned[\"stamp\"].apply(lambda x: datetime.datetime.fromtimestamp(x).microsecond)"
   ]
  },
  {
   "cell_type": "code",
   "execution_count": 78,
   "id": "79d627b0-59f7-4fd1-8fe4-640234edea34",
   "metadata": {},
   "outputs": [
    {
     "data": {
      "text/html": [
       "<div>\n",
       "<style scoped>\n",
       "    .dataframe tbody tr th:only-of-type {\n",
       "        vertical-align: middle;\n",
       "    }\n",
       "\n",
       "    .dataframe tbody tr th {\n",
       "        vertical-align: top;\n",
       "    }\n",
       "\n",
       "    .dataframe thead th {\n",
       "        text-align: right;\n",
       "    }\n",
       "</style>\n",
       "<table border=\"1\" class=\"dataframe\">\n",
       "  <thead>\n",
       "    <tr style=\"text-align: right;\">\n",
       "      <th></th>\n",
       "      <th>filenames</th>\n",
       "      <th>measured_values</th>\n",
       "      <th>stamp</th>\n",
       "      <th>year</th>\n",
       "      <th>month</th>\n",
       "      <th>day</th>\n",
       "      <th>hour</th>\n",
       "      <th>minute</th>\n",
       "      <th>second</th>\n",
       "      <th>ms</th>\n",
       "    </tr>\n",
       "  </thead>\n",
       "  <tbody>\n",
       "    <tr>\n",
       "      <th>0</th>\n",
       "      <td>2022-11-03T19:51:39_158+02:00.jpg</td>\n",
       "      <td>13688.982</td>\n",
       "      <td>1.667501e+09</td>\n",
       "      <td>2022</td>\n",
       "      <td>11</td>\n",
       "      <td>3</td>\n",
       "      <td>19</td>\n",
       "      <td>51</td>\n",
       "      <td>39</td>\n",
       "      <td>158</td>\n",
       "    </tr>\n",
       "    <tr>\n",
       "      <th>1</th>\n",
       "      <td>2022-11-03T19:56:39_297+02:00.jpg</td>\n",
       "      <td>13689.163</td>\n",
       "      <td>1.667502e+09</td>\n",
       "      <td>2022</td>\n",
       "      <td>11</td>\n",
       "      <td>3</td>\n",
       "      <td>19</td>\n",
       "      <td>56</td>\n",
       "      <td>39</td>\n",
       "      <td>297</td>\n",
       "    </tr>\n",
       "    <tr>\n",
       "      <th>2</th>\n",
       "      <td>2022-11-03T20:01:39_155+02:00.jpg</td>\n",
       "      <td>13689.280</td>\n",
       "      <td>1.667502e+09</td>\n",
       "      <td>2022</td>\n",
       "      <td>11</td>\n",
       "      <td>3</td>\n",
       "      <td>20</td>\n",
       "      <td>1</td>\n",
       "      <td>39</td>\n",
       "      <td>155</td>\n",
       "    </tr>\n",
       "    <tr>\n",
       "      <th>3</th>\n",
       "      <td>2022-11-03T20:06:39_166+02:00.jpg</td>\n",
       "      <td>13689.356</td>\n",
       "      <td>1.667502e+09</td>\n",
       "      <td>2022</td>\n",
       "      <td>11</td>\n",
       "      <td>3</td>\n",
       "      <td>20</td>\n",
       "      <td>6</td>\n",
       "      <td>39</td>\n",
       "      <td>166</td>\n",
       "    </tr>\n",
       "    <tr>\n",
       "      <th>4</th>\n",
       "      <td>2022-11-03T20:11:39_082+02:00.jpg</td>\n",
       "      <td>13689.417</td>\n",
       "      <td>1.667503e+09</td>\n",
       "      <td>2022</td>\n",
       "      <td>11</td>\n",
       "      <td>3</td>\n",
       "      <td>20</td>\n",
       "      <td>11</td>\n",
       "      <td>39</td>\n",
       "      <td>82</td>\n",
       "    </tr>\n",
       "  </tbody>\n",
       "</table>\n",
       "</div>"
      ],
      "text/plain": [
       "                           filenames  measured_values         stamp  year  \\\n",
       "0  2022-11-03T19:51:39_158+02:00.jpg        13688.982  1.667501e+09  2022   \n",
       "1  2022-11-03T19:56:39_297+02:00.jpg        13689.163  1.667502e+09  2022   \n",
       "2  2022-11-03T20:01:39_155+02:00.jpg        13689.280  1.667502e+09  2022   \n",
       "3  2022-11-03T20:06:39_166+02:00.jpg        13689.356  1.667502e+09  2022   \n",
       "4  2022-11-03T20:11:39_082+02:00.jpg        13689.417  1.667503e+09  2022   \n",
       "\n",
       "   month  day  hour  minute  second   ms  \n",
       "0     11    3    19      51      39  158  \n",
       "1     11    3    19      56      39  297  \n",
       "2     11    3    20       1      39  155  \n",
       "3     11    3    20       6      39  166  \n",
       "4     11    3    20      11      39   82  "
      ]
     },
     "execution_count": 78,
     "metadata": {},
     "output_type": "execute_result"
    }
   ],
   "source": [
    "df_cleaned.head()"
   ]
  },
  {
   "cell_type": "code",
   "execution_count": 79,
   "id": "b1b88595-a5fe-4a30-a68a-4720cf74248d",
   "metadata": {},
   "outputs": [],
   "source": [
    "date1 = datetime.datetime(2022,10,24,0,0,0)\n",
    "day1 = datetime.datetime.timestamp(date1)\n",
    "\n",
    "date2 = datetime.datetime(2022,10,25,0,0,0)\n",
    "day2 = datetime.datetime.timestamp(date2)"
   ]
  },
  {
   "cell_type": "code",
   "execution_count": 80,
   "id": "4c125ed1-c683-4d66-8d1e-e71774f9f2da",
   "metadata": {},
   "outputs": [],
   "source": [
    "stamps = list(df_cleaned['stamp'])\n",
    "start_date = datetime.datetime.fromtimestamp(stamps[0])\n",
    "end_date = datetime.datetime.fromtimestamp(stamps[-1])"
   ]
  },
  {
   "cell_type": "code",
   "execution_count": 81,
   "id": "effcadc5-cdea-44aa-b55d-d02cc0ff0207",
   "metadata": {},
   "outputs": [],
   "source": [
    "date_diff = end_date - start_date"
   ]
  },
  {
   "cell_type": "code",
   "execution_count": 82,
   "id": "86a84b2f-3bf1-4ded-a160-9b60ebd4b99e",
   "metadata": {},
   "outputs": [
    {
     "data": {
      "text/plain": [
       "(datetime.datetime(2022, 11, 3, 19, 51, 39, 158),\n",
       " datetime.datetime(2022, 11, 5, 1, 40, 33, 609),\n",
       " datetime.timedelta(days=1, seconds=20934, microseconds=451))"
      ]
     },
     "execution_count": 82,
     "metadata": {},
     "output_type": "execute_result"
    }
   ],
   "source": [
    "start_date, end_date, date_diff"
   ]
  },
  {
   "cell_type": "code",
   "execution_count": 83,
   "id": "6ed619d0-02a8-42bc-938c-1ef1423977b5",
   "metadata": {},
   "outputs": [
    {
     "data": {
      "text/plain": [
       "1"
      ]
     },
     "execution_count": 83,
     "metadata": {},
     "output_type": "execute_result"
    }
   ],
   "source": [
    "date_diff.days"
   ]
  },
  {
   "cell_type": "code",
   "execution_count": 84,
   "id": "6a1d269d-c75f-4e32-ae7f-7b44d4ddccc6",
   "metadata": {},
   "outputs": [],
   "source": [
    "daylines = [datetime.datetime.timestamp(start_date)+i*86400 for i in range(date_diff.days + 3)]"
   ]
  },
  {
   "cell_type": "code",
   "execution_count": 85,
   "id": "bafb8b8d-0705-4cf8-b92e-f6660730c6ec",
   "metadata": {},
   "outputs": [
    {
     "data": {
      "text/plain": [
       "1667433600.0"
      ]
     },
     "execution_count": 85,
     "metadata": {},
     "output_type": "execute_result"
    }
   ],
   "source": [
    "daylines[0] - daylines[0] % 86400"
   ]
  },
  {
   "cell_type": "code",
   "execution_count": 86,
   "id": "870f49f9-d943-49ae-a647-ad2706790b19",
   "metadata": {},
   "outputs": [],
   "source": [
    "daylines = [stamp - stamp % 86400 for stamp in daylines]"
   ]
  },
  {
   "cell_type": "code",
   "execution_count": 87,
   "id": "eb5df9fc-4884-4275-87fb-46d74af52842",
   "metadata": {},
   "outputs": [],
   "source": [
    "dates = [datetime.datetime.fromtimestamp(stamp) for stamp in daylines]"
   ]
  },
  {
   "cell_type": "code",
   "execution_count": 88,
   "id": "55c317d3-d1c7-4def-8aea-4878cc976e04",
   "metadata": {},
   "outputs": [
    {
     "data": {
      "text/plain": [
       "[datetime.datetime(2022, 11, 3, 1, 0),\n",
       " datetime.datetime(2022, 11, 4, 1, 0),\n",
       " datetime.datetime(2022, 11, 5, 1, 0),\n",
       " datetime.datetime(2022, 11, 6, 1, 0)]"
      ]
     },
     "execution_count": 88,
     "metadata": {},
     "output_type": "execute_result"
    }
   ],
   "source": [
    "dates"
   ]
  },
  {
   "cell_type": "code",
   "execution_count": 89,
   "id": "f0567101-fb0a-4595-a5ee-75be513e4f54",
   "metadata": {},
   "outputs": [],
   "source": [
    "now = datetime.datetime(1970,1,1,1,0,0,0)"
   ]
  },
  {
   "cell_type": "code",
   "execution_count": 90,
   "id": "5ff6b283-2589-4809-9bad-c95b5cc893e0",
   "metadata": {},
   "outputs": [
    {
     "data": {
      "text/plain": [
       "0.0"
      ]
     },
     "execution_count": 90,
     "metadata": {},
     "output_type": "execute_result"
    }
   ],
   "source": [
    "datetime.datetime.timestamp(now)"
   ]
  },
  {
   "cell_type": "code",
   "execution_count": 91,
   "id": "3e0259ce-f5be-4d94-a572-1f4b087c568e",
   "metadata": {},
   "outputs": [
    {
     "data": {
      "text/plain": [
       "datetime.date(1970, 1, 1)"
      ]
     },
     "execution_count": 91,
     "metadata": {},
     "output_type": "execute_result"
    }
   ],
   "source": [
    "datetime.date.fromtimestamp(0)"
   ]
  },
  {
   "cell_type": "code",
   "execution_count": 92,
   "id": "ce4a8ae6-698a-4ebb-bb2d-88464486afeb",
   "metadata": {},
   "outputs": [],
   "source": [
    "df_cleaned['datetime'] = df_cleaned['stamp'].apply(lambda x: datetime.datetime.fromtimestamp(x))\n",
    "df_cleaned['date'] = df_cleaned['stamp'].apply(lambda x: datetime.date.fromtimestamp(x))"
   ]
  },
  {
   "cell_type": "code",
   "execution_count": 93,
   "id": "e10ca1a6-20f5-4052-b9f8-f98acfaa4d35",
   "metadata": {},
   "outputs": [
    {
     "data": {
      "text/html": [
       "<div>\n",
       "<style scoped>\n",
       "    .dataframe tbody tr th:only-of-type {\n",
       "        vertical-align: middle;\n",
       "    }\n",
       "\n",
       "    .dataframe tbody tr th {\n",
       "        vertical-align: top;\n",
       "    }\n",
       "\n",
       "    .dataframe thead th {\n",
       "        text-align: right;\n",
       "    }\n",
       "</style>\n",
       "<table border=\"1\" class=\"dataframe\">\n",
       "  <thead>\n",
       "    <tr style=\"text-align: right;\">\n",
       "      <th></th>\n",
       "      <th>filenames</th>\n",
       "      <th>measured_values</th>\n",
       "      <th>stamp</th>\n",
       "      <th>year</th>\n",
       "      <th>month</th>\n",
       "      <th>day</th>\n",
       "      <th>hour</th>\n",
       "      <th>minute</th>\n",
       "      <th>second</th>\n",
       "      <th>ms</th>\n",
       "      <th>datetime</th>\n",
       "      <th>date</th>\n",
       "    </tr>\n",
       "  </thead>\n",
       "  <tbody>\n",
       "    <tr>\n",
       "      <th>0</th>\n",
       "      <td>2022-11-03T19:51:39_158+02:00.jpg</td>\n",
       "      <td>13688.982</td>\n",
       "      <td>1.667501e+09</td>\n",
       "      <td>2022</td>\n",
       "      <td>11</td>\n",
       "      <td>3</td>\n",
       "      <td>19</td>\n",
       "      <td>51</td>\n",
       "      <td>39</td>\n",
       "      <td>158</td>\n",
       "      <td>2022-11-03 19:51:39.000158</td>\n",
       "      <td>2022-11-03</td>\n",
       "    </tr>\n",
       "    <tr>\n",
       "      <th>1</th>\n",
       "      <td>2022-11-03T19:56:39_297+02:00.jpg</td>\n",
       "      <td>13689.163</td>\n",
       "      <td>1.667502e+09</td>\n",
       "      <td>2022</td>\n",
       "      <td>11</td>\n",
       "      <td>3</td>\n",
       "      <td>19</td>\n",
       "      <td>56</td>\n",
       "      <td>39</td>\n",
       "      <td>297</td>\n",
       "      <td>2022-11-03 19:56:39.000297</td>\n",
       "      <td>2022-11-03</td>\n",
       "    </tr>\n",
       "    <tr>\n",
       "      <th>2</th>\n",
       "      <td>2022-11-03T20:01:39_155+02:00.jpg</td>\n",
       "      <td>13689.280</td>\n",
       "      <td>1.667502e+09</td>\n",
       "      <td>2022</td>\n",
       "      <td>11</td>\n",
       "      <td>3</td>\n",
       "      <td>20</td>\n",
       "      <td>1</td>\n",
       "      <td>39</td>\n",
       "      <td>155</td>\n",
       "      <td>2022-11-03 20:01:39.000155</td>\n",
       "      <td>2022-11-03</td>\n",
       "    </tr>\n",
       "    <tr>\n",
       "      <th>3</th>\n",
       "      <td>2022-11-03T20:06:39_166+02:00.jpg</td>\n",
       "      <td>13689.356</td>\n",
       "      <td>1.667502e+09</td>\n",
       "      <td>2022</td>\n",
       "      <td>11</td>\n",
       "      <td>3</td>\n",
       "      <td>20</td>\n",
       "      <td>6</td>\n",
       "      <td>39</td>\n",
       "      <td>166</td>\n",
       "      <td>2022-11-03 20:06:39.000166</td>\n",
       "      <td>2022-11-03</td>\n",
       "    </tr>\n",
       "    <tr>\n",
       "      <th>4</th>\n",
       "      <td>2022-11-03T20:11:39_082+02:00.jpg</td>\n",
       "      <td>13689.417</td>\n",
       "      <td>1.667503e+09</td>\n",
       "      <td>2022</td>\n",
       "      <td>11</td>\n",
       "      <td>3</td>\n",
       "      <td>20</td>\n",
       "      <td>11</td>\n",
       "      <td>39</td>\n",
       "      <td>82</td>\n",
       "      <td>2022-11-03 20:11:39.000082</td>\n",
       "      <td>2022-11-03</td>\n",
       "    </tr>\n",
       "    <tr>\n",
       "      <th>...</th>\n",
       "      <td>...</td>\n",
       "      <td>...</td>\n",
       "      <td>...</td>\n",
       "      <td>...</td>\n",
       "      <td>...</td>\n",
       "      <td>...</td>\n",
       "      <td>...</td>\n",
       "      <td>...</td>\n",
       "      <td>...</td>\n",
       "      <td>...</td>\n",
       "      <td>...</td>\n",
       "      <td>...</td>\n",
       "    </tr>\n",
       "    <tr>\n",
       "      <th>203</th>\n",
       "      <td>2022-11-05T01:20:33_516+02:00.jpg</td>\n",
       "      <td>13696.475</td>\n",
       "      <td>1.667608e+09</td>\n",
       "      <td>2022</td>\n",
       "      <td>11</td>\n",
       "      <td>5</td>\n",
       "      <td>1</td>\n",
       "      <td>20</td>\n",
       "      <td>33</td>\n",
       "      <td>516</td>\n",
       "      <td>2022-11-05 01:20:33.000516</td>\n",
       "      <td>2022-11-05</td>\n",
       "    </tr>\n",
       "    <tr>\n",
       "      <th>204</th>\n",
       "      <td>2022-11-05T01:25:33_606+02:00.jpg</td>\n",
       "      <td>13696.475</td>\n",
       "      <td>1.667608e+09</td>\n",
       "      <td>2022</td>\n",
       "      <td>11</td>\n",
       "      <td>5</td>\n",
       "      <td>1</td>\n",
       "      <td>25</td>\n",
       "      <td>33</td>\n",
       "      <td>606</td>\n",
       "      <td>2022-11-05 01:25:33.000606</td>\n",
       "      <td>2022-11-05</td>\n",
       "    </tr>\n",
       "    <tr>\n",
       "      <th>205</th>\n",
       "      <td>2022-11-05T01:30:33_597+02:00.jpg</td>\n",
       "      <td>13696.475</td>\n",
       "      <td>1.667608e+09</td>\n",
       "      <td>2022</td>\n",
       "      <td>11</td>\n",
       "      <td>5</td>\n",
       "      <td>1</td>\n",
       "      <td>30</td>\n",
       "      <td>33</td>\n",
       "      <td>597</td>\n",
       "      <td>2022-11-05 01:30:33.000597</td>\n",
       "      <td>2022-11-05</td>\n",
       "    </tr>\n",
       "    <tr>\n",
       "      <th>206</th>\n",
       "      <td>2022-11-05T01:35:33_565+02:00.jpg</td>\n",
       "      <td>13696.475</td>\n",
       "      <td>1.667609e+09</td>\n",
       "      <td>2022</td>\n",
       "      <td>11</td>\n",
       "      <td>5</td>\n",
       "      <td>1</td>\n",
       "      <td>35</td>\n",
       "      <td>33</td>\n",
       "      <td>565</td>\n",
       "      <td>2022-11-05 01:35:33.000565</td>\n",
       "      <td>2022-11-05</td>\n",
       "    </tr>\n",
       "    <tr>\n",
       "      <th>207</th>\n",
       "      <td>2022-11-05T01:40:33_609+02:00.jpg</td>\n",
       "      <td>13696.475</td>\n",
       "      <td>1.667609e+09</td>\n",
       "      <td>2022</td>\n",
       "      <td>11</td>\n",
       "      <td>5</td>\n",
       "      <td>1</td>\n",
       "      <td>40</td>\n",
       "      <td>33</td>\n",
       "      <td>609</td>\n",
       "      <td>2022-11-05 01:40:33.000609</td>\n",
       "      <td>2022-11-05</td>\n",
       "    </tr>\n",
       "  </tbody>\n",
       "</table>\n",
       "<p>208 rows × 12 columns</p>\n",
       "</div>"
      ],
      "text/plain": [
       "                             filenames  measured_values         stamp  year  \\\n",
       "0    2022-11-03T19:51:39_158+02:00.jpg        13688.982  1.667501e+09  2022   \n",
       "1    2022-11-03T19:56:39_297+02:00.jpg        13689.163  1.667502e+09  2022   \n",
       "2    2022-11-03T20:01:39_155+02:00.jpg        13689.280  1.667502e+09  2022   \n",
       "3    2022-11-03T20:06:39_166+02:00.jpg        13689.356  1.667502e+09  2022   \n",
       "4    2022-11-03T20:11:39_082+02:00.jpg        13689.417  1.667503e+09  2022   \n",
       "..                                 ...              ...           ...   ...   \n",
       "203  2022-11-05T01:20:33_516+02:00.jpg        13696.475  1.667608e+09  2022   \n",
       "204  2022-11-05T01:25:33_606+02:00.jpg        13696.475  1.667608e+09  2022   \n",
       "205  2022-11-05T01:30:33_597+02:00.jpg        13696.475  1.667608e+09  2022   \n",
       "206  2022-11-05T01:35:33_565+02:00.jpg        13696.475  1.667609e+09  2022   \n",
       "207  2022-11-05T01:40:33_609+02:00.jpg        13696.475  1.667609e+09  2022   \n",
       "\n",
       "     month  day  hour  minute  second   ms                   datetime  \\\n",
       "0       11    3    19      51      39  158 2022-11-03 19:51:39.000158   \n",
       "1       11    3    19      56      39  297 2022-11-03 19:56:39.000297   \n",
       "2       11    3    20       1      39  155 2022-11-03 20:01:39.000155   \n",
       "3       11    3    20       6      39  166 2022-11-03 20:06:39.000166   \n",
       "4       11    3    20      11      39   82 2022-11-03 20:11:39.000082   \n",
       "..     ...  ...   ...     ...     ...  ...                        ...   \n",
       "203     11    5     1      20      33  516 2022-11-05 01:20:33.000516   \n",
       "204     11    5     1      25      33  606 2022-11-05 01:25:33.000606   \n",
       "205     11    5     1      30      33  597 2022-11-05 01:30:33.000597   \n",
       "206     11    5     1      35      33  565 2022-11-05 01:35:33.000565   \n",
       "207     11    5     1      40      33  609 2022-11-05 01:40:33.000609   \n",
       "\n",
       "           date  \n",
       "0    2022-11-03  \n",
       "1    2022-11-03  \n",
       "2    2022-11-03  \n",
       "3    2022-11-03  \n",
       "4    2022-11-03  \n",
       "..          ...  \n",
       "203  2022-11-05  \n",
       "204  2022-11-05  \n",
       "205  2022-11-05  \n",
       "206  2022-11-05  \n",
       "207  2022-11-05  \n",
       "\n",
       "[208 rows x 12 columns]"
      ]
     },
     "execution_count": 93,
     "metadata": {},
     "output_type": "execute_result"
    }
   ],
   "source": [
    "df_cleaned"
   ]
  },
  {
   "cell_type": "code",
   "execution_count": 94,
   "id": "c7fa94a6-937d-4775-95f9-38dfcb592479",
   "metadata": {},
   "outputs": [
    {
     "data": {
      "text/plain": [
       "[1667433600.0, 1667520000.0, 1667606400.0, 1667692800.0]"
      ]
     },
     "execution_count": 94,
     "metadata": {},
     "output_type": "execute_result"
    }
   ],
   "source": [
    "daylines"
   ]
  },
  {
   "cell_type": "code",
   "execution_count": 95,
   "id": "b3942f10-371a-4f7e-a2fe-6f325ac8efa5",
   "metadata": {},
   "outputs": [
    {
     "data": {
      "image/png": "[encoded data removed]",
      "text/plain": [
       "<Figure size 1080x720 with 1 Axes>"
      ]
     },
     "metadata": {
      "needs_background": "light"
     },
     "output_type": "display_data"
    }
   ],
   "source": [
    "plt.figure(figsize=(15,10))\n",
    "plt.scatter(df_cleaned['stamp'], df_cleaned['measured_values'])\n",
    "# for line in daylines:\n",
    "    # plt.axvline(x = daylines, color = 'gray', label = 'axvline - full height')\n",
    "    # plt.text(10.1,0,'blah',rotation=90)\n",
    "plt.grid()\n",
    "plt.xlabel('Date')\n",
    "plt.ylabel('values')\n",
    "plt.show()"
   ]
  },
  {
   "cell_type": "code",
   "execution_count": 134,
   "id": "ba4f5311-f63d-4122-85a1-66993fced192",
   "metadata": {},
   "outputs": [
    {
     "data": {
      "image/png": "[encoded data removed]",
      "text/plain": [
       "<Figure size 1080x720 with 1 Axes>"
      ]
     },
     "metadata": {
      "needs_background": "light"
     },
     "output_type": "display_data"
    }
   ],
   "source": [
    "plt.figure(figsize=(15,10))\n",
    "plt.scatter(df_cleaned['datetime'], df_cleaned['measured_values'])\n",
    "# for line in daylines:\n",
    "#     plt.axvline(x = line, color = 'gray', label = 'axvline - full height')\n",
    "#     plt.text(10.1,0,'blah',rotation=90)\n",
    "plt.grid()\n",
    "plt.xlabel('Date')\n",
    "plt.ylabel('values')\n",
    "plt.show()"
   ]
  },
  {
   "cell_type": "code",
   "execution_count": 96,
   "id": "af0a7401-eaa7-4a67-80bc-58515ffc4fb8",
   "metadata": {},
   "outputs": [
    {
     "data": {
      "image/png": "[encoded data removed]",
      "text/plain": [
       "<Figure size 1080x720 with 1 Axes>"
      ]
     },
     "metadata": {
      "needs_background": "light"
     },
     "output_type": "display_data"
    }
   ],
   "source": [
    "plt.figure(figsize=(15,10))\n",
    "plt.scatter(df_cleaned['date'], df_cleaned['measured_values'])\n",
    "# for line in daylines:\n",
    "#     plt.axvline(x = line, color = 'gray', label = 'axvline - full height')\n",
    "#     plt.text(10.1,0,'blah',rotation=90)\n",
    "plt.grid()\n",
    "plt.xlabel('Date')\n",
    "plt.ylabel('values')\n",
    "plt.show()"
   ]
  },
  {
   "cell_type": "code",
   "execution_count": 119,
   "id": "e50626c7-9489-462d-a1b8-0727e43eadc9",
   "metadata": {},
   "outputs": [
    {
     "data": {
      "text/plain": [
       "1667501499"
      ]
     },
     "execution_count": 119,
     "metadata": {},
     "output_type": "execute_result"
    }
   ],
   "source": [
    "round(df_cleaned['stamp'].iloc[0])"
   ]
  },
  {
   "cell_type": "code",
   "execution_count": 120,
   "id": "6fd175b9-4e1c-4851-a155-8ff66027ec7a",
   "metadata": {},
   "outputs": [
    {
     "data": {
      "text/plain": [
       "1667608833"
      ]
     },
     "execution_count": 120,
     "metadata": {},
     "output_type": "execute_result"
    }
   ],
   "source": [
    "round(df_cleaned['stamp'].iloc[-1])"
   ]
  },
  {
   "cell_type": "code",
   "execution_count": 146,
   "id": "c8ad964d-4947-4aba-96c7-1eafd8a18c08",
   "metadata": {},
   "outputs": [],
   "source": [
    "df_cleaned['r_stamp'] = df_cleaned['stamp'].apply(lambda x: round(x))"
   ]
  },
  {
   "cell_type": "code",
   "execution_count": 147,
   "id": "53fbba53-278a-416b-8049-66eede8d3ce2",
   "metadata": {},
   "outputs": [
    {
     "data": {
      "text/html": [
       "<div>\n",
       "<style scoped>\n",
       "    .dataframe tbody tr th:only-of-type {\n",
       "        vertical-align: middle;\n",
       "    }\n",
       "\n",
       "    .dataframe tbody tr th {\n",
       "        vertical-align: top;\n",
       "    }\n",
       "\n",
       "    .dataframe thead th {\n",
       "        text-align: right;\n",
       "    }\n",
       "</style>\n",
       "<table border=\"1\" class=\"dataframe\">\n",
       "  <thead>\n",
       "    <tr style=\"text-align: right;\">\n",
       "      <th></th>\n",
       "      <th>filenames</th>\n",
       "      <th>measured_values</th>\n",
       "      <th>stamp</th>\n",
       "      <th>year</th>\n",
       "      <th>month</th>\n",
       "      <th>day</th>\n",
       "      <th>hour</th>\n",
       "      <th>minute</th>\n",
       "      <th>second</th>\n",
       "      <th>ms</th>\n",
       "      <th>datetime</th>\n",
       "      <th>date</th>\n",
       "      <th>r_stamp</th>\n",
       "    </tr>\n",
       "  </thead>\n",
       "  <tbody>\n",
       "    <tr>\n",
       "      <th>0</th>\n",
       "      <td>2022-11-03T19:51:39_158+02:00.jpg</td>\n",
       "      <td>13688.982</td>\n",
       "      <td>1.667501e+09</td>\n",
       "      <td>2022</td>\n",
       "      <td>11</td>\n",
       "      <td>3</td>\n",
       "      <td>19</td>\n",
       "      <td>51</td>\n",
       "      <td>39</td>\n",
       "      <td>158</td>\n",
       "      <td>2022-11-03 19:51:39.000158</td>\n",
       "      <td>2022-11-03</td>\n",
       "      <td>1667501499</td>\n",
       "    </tr>\n",
       "    <tr>\n",
       "      <th>1</th>\n",
       "      <td>2022-11-03T19:56:39_297+02:00.jpg</td>\n",
       "      <td>13689.163</td>\n",
       "      <td>1.667502e+09</td>\n",
       "      <td>2022</td>\n",
       "      <td>11</td>\n",
       "      <td>3</td>\n",
       "      <td>19</td>\n",
       "      <td>56</td>\n",
       "      <td>39</td>\n",
       "      <td>297</td>\n",
       "      <td>2022-11-03 19:56:39.000297</td>\n",
       "      <td>2022-11-03</td>\n",
       "      <td>1667501799</td>\n",
       "    </tr>\n",
       "    <tr>\n",
       "      <th>2</th>\n",
       "      <td>2022-11-03T20:01:39_155+02:00.jpg</td>\n",
       "      <td>13689.280</td>\n",
       "      <td>1.667502e+09</td>\n",
       "      <td>2022</td>\n",
       "      <td>11</td>\n",
       "      <td>3</td>\n",
       "      <td>20</td>\n",
       "      <td>1</td>\n",
       "      <td>39</td>\n",
       "      <td>155</td>\n",
       "      <td>2022-11-03 20:01:39.000155</td>\n",
       "      <td>2022-11-03</td>\n",
       "      <td>1667502099</td>\n",
       "    </tr>\n",
       "    <tr>\n",
       "      <th>3</th>\n",
       "      <td>2022-11-03T20:06:39_166+02:00.jpg</td>\n",
       "      <td>13689.356</td>\n",
       "      <td>1.667502e+09</td>\n",
       "      <td>2022</td>\n",
       "      <td>11</td>\n",
       "      <td>3</td>\n",
       "      <td>20</td>\n",
       "      <td>6</td>\n",
       "      <td>39</td>\n",
       "      <td>166</td>\n",
       "      <td>2022-11-03 20:06:39.000166</td>\n",
       "      <td>2022-11-03</td>\n",
       "      <td>1667502399</td>\n",
       "    </tr>\n",
       "    <tr>\n",
       "      <th>4</th>\n",
       "      <td>2022-11-03T20:11:39_082+02:00.jpg</td>\n",
       "      <td>13689.417</td>\n",
       "      <td>1.667503e+09</td>\n",
       "      <td>2022</td>\n",
       "      <td>11</td>\n",
       "      <td>3</td>\n",
       "      <td>20</td>\n",
       "      <td>11</td>\n",
       "      <td>39</td>\n",
       "      <td>82</td>\n",
       "      <td>2022-11-03 20:11:39.000082</td>\n",
       "      <td>2022-11-03</td>\n",
       "      <td>1667502699</td>\n",
       "    </tr>\n",
       "  </tbody>\n",
       "</table>\n",
       "</div>"
      ],
      "text/plain": [
       "                           filenames  measured_values         stamp  year  \\\n",
       "0  2022-11-03T19:51:39_158+02:00.jpg        13688.982  1.667501e+09  2022   \n",
       "1  2022-11-03T19:56:39_297+02:00.jpg        13689.163  1.667502e+09  2022   \n",
       "2  2022-11-03T20:01:39_155+02:00.jpg        13689.280  1.667502e+09  2022   \n",
       "3  2022-11-03T20:06:39_166+02:00.jpg        13689.356  1.667502e+09  2022   \n",
       "4  2022-11-03T20:11:39_082+02:00.jpg        13689.417  1.667503e+09  2022   \n",
       "\n",
       "   month  day  hour  minute  second   ms                   datetime  \\\n",
       "0     11    3    19      51      39  158 2022-11-03 19:51:39.000158   \n",
       "1     11    3    19      56      39  297 2022-11-03 19:56:39.000297   \n",
       "2     11    3    20       1      39  155 2022-11-03 20:01:39.000155   \n",
       "3     11    3    20       6      39  166 2022-11-03 20:06:39.000166   \n",
       "4     11    3    20      11      39   82 2022-11-03 20:11:39.000082   \n",
       "\n",
       "         date     r_stamp  \n",
       "0  2022-11-03  1667501499  \n",
       "1  2022-11-03  1667501799  \n",
       "2  2022-11-03  1667502099  \n",
       "3  2022-11-03  1667502399  \n",
       "4  2022-11-03  1667502699  "
      ]
     },
     "execution_count": 147,
     "metadata": {},
     "output_type": "execute_result"
    }
   ],
   "source": [
    "df_cleaned.head()"
   ]
  },
  {
   "cell_type": "code",
   "execution_count": 155,
   "id": "9e28bf9c-5021-48ca-b0fe-786573a69f2b",
   "metadata": {},
   "outputs": [
    {
     "name": "stderr",
     "output_type": "stream",
     "text": [
      "*c* argument looks like a single numeric RGB or RGBA sequence, which should be avoided as value-mapping will have precedence in case its length matches with *x* & *y*.  Please use the *color* keyword-argument or provide a 2D array with a single row if you intend to specify the same RGB or RGBA value for all points.\n"
     ]
    },
    {
     "name": "stdout",
     "output_type": "stream",
     "text": [
      "13689.47\n"
     ]
    },
    {
     "data": {
      "text/plain": [
       "<matplotlib.legend.Legend at 0x7fb5c1d57e20>"
      ]
     },
     "execution_count": 155,
     "metadata": {},
     "output_type": "execute_result"
    },
    {
     "data": {
      "image/png": "[encoded data removed]",
      "text/plain": [
       "<Figure size 1080x720 with 1 Axes>"
      ]
     },
     "metadata": {
      "needs_background": "light"
     },
     "output_type": "display_data"
    }
   ],
   "source": [
    "# Perquisites\n",
    "import numpy as np\n",
    "import scipy as sp\n",
    "import matplotlib.pyplot as plt\n",
    "import scipy.interpolate\n",
    "# Create Data\n",
    "t = np.array(df_cleaned['r_stamp']) \n",
    "v = np.array(df_cleaned['measured_values'])\n",
    "\n",
    "# start = np.array(df_cleaned['stamp'][0])\n",
    "# end = np.array(df_cleaned['stamp'][-1])\n",
    "start = round(df_cleaned['stamp'].iloc[0])\n",
    "end = round(df_cleaned['stamp'].iloc[-1])\n",
    "\n",
    "# t=np.array([0,10,15,20,22.5,30])\n",
    "# v=np.array([0,227.04,362.78,517.35,602.97,901.67])\n",
    "# Plot Data\n",
    "plt.close('all')\n",
    "plt.figure(1, figsize=(15,10))\n",
    "plt.grid(axis='both',which='major',color=[166/255,166/255,166/255], linestyle='-', linewidth=2)\n",
    "plt.minorticks_on()\n",
    "plt.grid(axis='both',which='minor',color=[166/255,166/255,166/255], linestyle=':', linewidth=1)\n",
    "plt.xlabel('time (s)')         \n",
    "plt.ylabel('velocity (m/s)')        \n",
    "plt.title('Projectile of a Rocket') \n",
    "plt.scatter(t,v,50,[255/255,0/255,0/255],label='original data')\n",
    "# Create tnew Datapoints\n",
    "tnew=np.arange(start=start,stop=end,step=100)\n",
    "# Nearest Interpolation\n",
    "# fvnearest=sp.interpolate.interp1d(t,v,kind='nearest')\n",
    "# vnearest=fvnearest(tnew)\n",
    "# Linear Interpolation\n",
    "fvlinear=sp.interpolate.interp1d(t,v,kind='linear')\n",
    "vlinear=fvlinear(tnew)\n",
    "# fvlinear=sp.interpolate.interp1d(t,v,kind='quadratic')\n",
    "# vlinear=fvlinear(tnew)\n",
    "print(np.round(vlinear[16],3))\n",
    "# Add tnew, vlinear line to existing plot\n",
    "plt.plot(tnew,vlinear,color=[0/255,112/255,192/255], linestyle=':',label='linear interpolation', linewidth=3)\n",
    "plt.legend(loc='upper left')"
   ]
  },
  {
   "cell_type": "code",
   "execution_count": 140,
   "id": "22fbce32-eb3f-4cfa-90e4-6fed2e3c4ac9",
   "metadata": {},
   "outputs": [
    {
     "data": {
      "text/plain": [
       "108"
      ]
     },
     "execution_count": 140,
     "metadata": {},
     "output_type": "execute_result"
    }
   ],
   "source": [
    "len(tnew)"
   ]
  },
  {
   "cell_type": "code",
   "execution_count": 141,
   "id": "e77841fc-23a7-489d-99da-d5210b65bb97",
   "metadata": {},
   "outputs": [],
   "source": [
    "fvlinear=sp.interpolate.interp1d(t,v,kind='linear')"
   ]
  },
  {
   "cell_type": "code",
   "execution_count": 201,
   "id": "bfb04100-e793-45a2-88c1-e0edd506f8bf",
   "metadata": {},
   "outputs": [
    {
     "data": {
      "text/plain": [
       "array([11])"
      ]
     },
     "execution_count": 201,
     "metadata": {},
     "output_type": "execute_result"
    }
   ],
   "source": [
    "df_cleaned['month'].unique()"
   ]
  },
  {
   "cell_type": "code",
   "execution_count": 202,
   "id": "c92d6afd-b9c2-48a8-a081-f9b013caeab0",
   "metadata": {},
   "outputs": [
    {
     "data": {
      "text/html": [
       "<div>\n",
       "<style scoped>\n",
       "    .dataframe tbody tr th:only-of-type {\n",
       "        vertical-align: middle;\n",
       "    }\n",
       "\n",
       "    .dataframe tbody tr th {\n",
       "        vertical-align: top;\n",
       "    }\n",
       "\n",
       "    .dataframe thead th {\n",
       "        text-align: right;\n",
       "    }\n",
       "</style>\n",
       "<table border=\"1\" class=\"dataframe\">\n",
       "  <thead>\n",
       "    <tr style=\"text-align: right;\">\n",
       "      <th></th>\n",
       "      <th>filenames</th>\n",
       "      <th>measured_values</th>\n",
       "      <th>stamp</th>\n",
       "      <th>year</th>\n",
       "      <th>month</th>\n",
       "      <th>day</th>\n",
       "      <th>hour</th>\n",
       "      <th>minute</th>\n",
       "      <th>second</th>\n",
       "      <th>ms</th>\n",
       "      <th>datetime</th>\n",
       "      <th>date</th>\n",
       "    </tr>\n",
       "  </thead>\n",
       "  <tbody>\n",
       "    <tr>\n",
       "      <th>0</th>\n",
       "      <td>2022-11-03T17:57:37_774+02:00.jpg</td>\n",
       "      <td>13688.651</td>\n",
       "      <td>1.667495e+09</td>\n",
       "      <td>2022</td>\n",
       "      <td>11</td>\n",
       "      <td>3</td>\n",
       "      <td>17</td>\n",
       "      <td>57</td>\n",
       "      <td>37</td>\n",
       "      <td>774</td>\n",
       "      <td>2022-11-03 17:57:37.000774</td>\n",
       "      <td>2022-11-03</td>\n",
       "    </tr>\n",
       "    <tr>\n",
       "      <th>1</th>\n",
       "      <td>2022-11-03T18:01:39_113+02:00.jpg</td>\n",
       "      <td>13688.651</td>\n",
       "      <td>1.667495e+09</td>\n",
       "      <td>2022</td>\n",
       "      <td>11</td>\n",
       "      <td>3</td>\n",
       "      <td>18</td>\n",
       "      <td>1</td>\n",
       "      <td>39</td>\n",
       "      <td>113</td>\n",
       "      <td>2022-11-03 18:01:39.000113</td>\n",
       "      <td>2022-11-03</td>\n",
       "    </tr>\n",
       "    <tr>\n",
       "      <th>2</th>\n",
       "      <td>2022-11-03T18:06:39_184+02:00.jpg</td>\n",
       "      <td>13688.651</td>\n",
       "      <td>1.667495e+09</td>\n",
       "      <td>2022</td>\n",
       "      <td>11</td>\n",
       "      <td>3</td>\n",
       "      <td>18</td>\n",
       "      <td>6</td>\n",
       "      <td>39</td>\n",
       "      <td>184</td>\n",
       "      <td>2022-11-03 18:06:39.000184</td>\n",
       "      <td>2022-11-03</td>\n",
       "    </tr>\n",
       "    <tr>\n",
       "      <th>3</th>\n",
       "      <td>2022-11-03T18:11:39_174+02:00.jpg</td>\n",
       "      <td>13688.680</td>\n",
       "      <td>1.667495e+09</td>\n",
       "      <td>2022</td>\n",
       "      <td>11</td>\n",
       "      <td>3</td>\n",
       "      <td>18</td>\n",
       "      <td>11</td>\n",
       "      <td>39</td>\n",
       "      <td>174</td>\n",
       "      <td>2022-11-03 18:11:39.000174</td>\n",
       "      <td>2022-11-03</td>\n",
       "    </tr>\n",
       "    <tr>\n",
       "      <th>4</th>\n",
       "      <td>2022-11-03T18:16:39_165+02:00.jpg</td>\n",
       "      <td>13688.785</td>\n",
       "      <td>1.667496e+09</td>\n",
       "      <td>2022</td>\n",
       "      <td>11</td>\n",
       "      <td>3</td>\n",
       "      <td>18</td>\n",
       "      <td>16</td>\n",
       "      <td>39</td>\n",
       "      <td>165</td>\n",
       "      <td>2022-11-03 18:16:39.000165</td>\n",
       "      <td>2022-11-03</td>\n",
       "    </tr>\n",
       "    <tr>\n",
       "      <th>...</th>\n",
       "      <td>...</td>\n",
       "      <td>...</td>\n",
       "      <td>...</td>\n",
       "      <td>...</td>\n",
       "      <td>...</td>\n",
       "      <td>...</td>\n",
       "      <td>...</td>\n",
       "      <td>...</td>\n",
       "      <td>...</td>\n",
       "      <td>...</td>\n",
       "      <td>...</td>\n",
       "      <td>...</td>\n",
       "    </tr>\n",
       "    <tr>\n",
       "      <th>171</th>\n",
       "      <td>2022-11-04T20:55:33_194+02:00.jpg</td>\n",
       "      <td>13695.455</td>\n",
       "      <td>1.667592e+09</td>\n",
       "      <td>2022</td>\n",
       "      <td>11</td>\n",
       "      <td>4</td>\n",
       "      <td>20</td>\n",
       "      <td>55</td>\n",
       "      <td>33</td>\n",
       "      <td>194</td>\n",
       "      <td>2022-11-04 20:55:33.000194</td>\n",
       "      <td>2022-11-04</td>\n",
       "    </tr>\n",
       "    <tr>\n",
       "      <th>172</th>\n",
       "      <td>2022-11-04T21:00:33_216+02:00.jpg</td>\n",
       "      <td>13695.455</td>\n",
       "      <td>1.667592e+09</td>\n",
       "      <td>2022</td>\n",
       "      <td>11</td>\n",
       "      <td>4</td>\n",
       "      <td>21</td>\n",
       "      <td>0</td>\n",
       "      <td>33</td>\n",
       "      <td>216</td>\n",
       "      <td>2022-11-04 21:00:33.000216</td>\n",
       "      <td>2022-11-04</td>\n",
       "    </tr>\n",
       "    <tr>\n",
       "      <th>173</th>\n",
       "      <td>2022-11-04T21:10:33_127+02:00.jpg</td>\n",
       "      <td>13695.455</td>\n",
       "      <td>1.667593e+09</td>\n",
       "      <td>2022</td>\n",
       "      <td>11</td>\n",
       "      <td>4</td>\n",
       "      <td>21</td>\n",
       "      <td>10</td>\n",
       "      <td>33</td>\n",
       "      <td>127</td>\n",
       "      <td>2022-11-04 21:10:33.000127</td>\n",
       "      <td>2022-11-04</td>\n",
       "    </tr>\n",
       "    <tr>\n",
       "      <th>174</th>\n",
       "      <td>2022-11-04T21:15:33_214+02:00.jpg</td>\n",
       "      <td>13695.455</td>\n",
       "      <td>1.667593e+09</td>\n",
       "      <td>2022</td>\n",
       "      <td>11</td>\n",
       "      <td>4</td>\n",
       "      <td>21</td>\n",
       "      <td>15</td>\n",
       "      <td>33</td>\n",
       "      <td>214</td>\n",
       "      <td>2022-11-04 21:15:33.000214</td>\n",
       "      <td>2022-11-04</td>\n",
       "    </tr>\n",
       "    <tr>\n",
       "      <th>175</th>\n",
       "      <td>2022-11-04T21:20:33_218+02:00.jpg</td>\n",
       "      <td>13695.455</td>\n",
       "      <td>1.667593e+09</td>\n",
       "      <td>2022</td>\n",
       "      <td>11</td>\n",
       "      <td>4</td>\n",
       "      <td>21</td>\n",
       "      <td>20</td>\n",
       "      <td>33</td>\n",
       "      <td>218</td>\n",
       "      <td>2022-11-04 21:20:33.000218</td>\n",
       "      <td>2022-11-04</td>\n",
       "    </tr>\n",
       "  </tbody>\n",
       "</table>\n",
       "<p>176 rows × 12 columns</p>\n",
       "</div>"
      ],
      "text/plain": [
       "                             filenames  measured_values         stamp  year  \\\n",
       "0    2022-11-03T17:57:37_774+02:00.jpg        13688.651  1.667495e+09  2022   \n",
       "1    2022-11-03T18:01:39_113+02:00.jpg        13688.651  1.667495e+09  2022   \n",
       "2    2022-11-03T18:06:39_184+02:00.jpg        13688.651  1.667495e+09  2022   \n",
       "3    2022-11-03T18:11:39_174+02:00.jpg        13688.680  1.667495e+09  2022   \n",
       "4    2022-11-03T18:16:39_165+02:00.jpg        13688.785  1.667496e+09  2022   \n",
       "..                                 ...              ...           ...   ...   \n",
       "171  2022-11-04T20:55:33_194+02:00.jpg        13695.455  1.667592e+09  2022   \n",
       "172  2022-11-04T21:00:33_216+02:00.jpg        13695.455  1.667592e+09  2022   \n",
       "173  2022-11-04T21:10:33_127+02:00.jpg        13695.455  1.667593e+09  2022   \n",
       "174  2022-11-04T21:15:33_214+02:00.jpg        13695.455  1.667593e+09  2022   \n",
       "175  2022-11-04T21:20:33_218+02:00.jpg        13695.455  1.667593e+09  2022   \n",
       "\n",
       "     month  day  hour  minute  second   ms                   datetime  \\\n",
       "0       11    3    17      57      37  774 2022-11-03 17:57:37.000774   \n",
       "1       11    3    18       1      39  113 2022-11-03 18:01:39.000113   \n",
       "2       11    3    18       6      39  184 2022-11-03 18:06:39.000184   \n",
       "3       11    3    18      11      39  174 2022-11-03 18:11:39.000174   \n",
       "4       11    3    18      16      39  165 2022-11-03 18:16:39.000165   \n",
       "..     ...  ...   ...     ...     ...  ...                        ...   \n",
       "171     11    4    20      55      33  194 2022-11-04 20:55:33.000194   \n",
       "172     11    4    21       0      33  216 2022-11-04 21:00:33.000216   \n",
       "173     11    4    21      10      33  127 2022-11-04 21:10:33.000127   \n",
       "174     11    4    21      15      33  214 2022-11-04 21:15:33.000214   \n",
       "175     11    4    21      20      33  218 2022-11-04 21:20:33.000218   \n",
       "\n",
       "           date  \n",
       "0    2022-11-03  \n",
       "1    2022-11-03  \n",
       "2    2022-11-03  \n",
       "3    2022-11-03  \n",
       "4    2022-11-03  \n",
       "..          ...  \n",
       "171  2022-11-04  \n",
       "172  2022-11-04  \n",
       "173  2022-11-04  \n",
       "174  2022-11-04  \n",
       "175  2022-11-04  \n",
       "\n",
       "[176 rows x 12 columns]"
      ]
     },
     "execution_count": 202,
     "metadata": {},
     "output_type": "execute_result"
    }
   ],
   "source": [
    "df_cleaned"
   ]
  },
  {
   "cell_type": "code",
   "execution_count": 203,
   "id": "e60a5e80-9c98-48c5-b255-67c25e8e4b8d",
   "metadata": {},
   "outputs": [],
   "source": [
    "import sqlite3"
   ]
  },
  {
   "cell_type": "code",
   "execution_count": 204,
   "id": "00e39b5f-74d1-4690-adbe-d6857514907d",
   "metadata": {},
   "outputs": [],
   "source": [
    "!rm gasmeter_numbers.db"
   ]
  },
  {
   "cell_type": "code",
   "execution_count": 205,
   "id": "3597e951-b8b4-4cef-80f1-78d9efa2c6d7",
   "metadata": {},
   "outputs": [],
   "source": [
    "connection = sqlite3.connect(\"gasmeter_numbers.db\")"
   ]
  },
  {
   "cell_type": "code",
   "execution_count": 206,
   "id": "9f98603b-d80b-4e8c-b03f-720e3b1c47dd",
   "metadata": {},
   "outputs": [],
   "source": [
    "cursor = connection.cursor()"
   ]
  },
  {
   "cell_type": "code",
   "execution_count": 207,
   "id": "7874e330-0b85-4f6b-9924-e09a683151c6",
   "metadata": {},
   "outputs": [],
   "source": [
    "# CREATE_TABLE = \"CREATE TABLE measured_values ( \\\n",
    "#                 filename TEXT, \\\n",
    "#                 measured_values INTEGER, \\\n",
    "#                 timestamp FLOAT,  \\\n",
    "#                 year INTEGER, \\\n",
    "#                 month INTEGER, \\\n",
    "#                 day INTEGER, \\\n",
    "#                 hour INTEGER, \\\n",
    "#                 minute INTEGER, \\\n",
    "#                 second INTEGER)\""
   ]
  },
  {
   "cell_type": "code",
   "execution_count": 208,
   "id": "9ecaa3c6-9def-4121-ac41-3311847cb473",
   "metadata": {},
   "outputs": [],
   "source": [
    "# cursor.execute(CREATE_TABLE)"
   ]
  },
  {
   "cell_type": "code",
   "execution_count": 209,
   "id": "45d66a97-e057-4e21-8b25-5dcf0d9d8619",
   "metadata": {},
   "outputs": [],
   "source": [
    "# print(connection.total_changes)"
   ]
  },
  {
   "cell_type": "code",
   "execution_count": 210,
   "id": "9b0c66cd-4b1c-4b05-be27-4bec9eb7ea18",
   "metadata": {},
   "outputs": [],
   "source": [
    "# connection.tables"
   ]
  },
  {
   "cell_type": "code",
   "execution_count": 211,
   "id": "491ec238-01d8-49b8-bba5-4e8d8a68315a",
   "metadata": {},
   "outputs": [],
   "source": [
    "# con = sqlite3.connect('database.db')\n",
    "# cursor = con.cursor()\n",
    "# cursor.execute(\"SELECT name FROM sqlite_master WHERE type='table';\")\n",
    "# print(cursor.fetchall())"
   ]
  },
  {
   "cell_type": "code",
   "execution_count": 212,
   "id": "76180e64-2dfb-48cb-a22a-7b52cfd78b45",
   "metadata": {},
   "outputs": [],
   "source": [
    "# INSERT = \"INSERT INTO measured_values VALUES ()\""
   ]
  },
  {
   "cell_type": "code",
   "execution_count": 213,
   "id": "5853e63d-f9f5-4b6a-ac25-eb887257f894",
   "metadata": {},
   "outputs": [],
   "source": [
    "# for index, row in df_cleaned.iterrows():\n",
    "#     print(index, row['year'], row['month'])\n",
    "#     break"
   ]
  },
  {
   "cell_type": "code",
   "execution_count": 214,
   "id": "94b00ef9-0e3b-4504-abc7-db9dfb8e0175",
   "metadata": {},
   "outputs": [],
   "source": [
    "df_cleaned.to_sql(name=\"val\", con=connection)"
   ]
  },
  {
   "cell_type": "code",
   "execution_count": 215,
   "id": "1d59eedf-31df-4de0-8c93-47f0ad544361",
   "metadata": {},
   "outputs": [],
   "source": [
    "SELECT = \"SELECT filenames, measured_values, stamp, year, month, day, hour, minute, second FROM val\"\n",
    "SELECT = \"SELECT filenames, measured_values, stamp, year, month, day, hour, minute, second FROM val\"\n",
    "WHERE = \" WHERE month = 11\"\n",
    "# WHERE = \" WHERE hour < 12\"\n",
    "# WHERE = \" WHERE hour < 12\"\n",
    "# WHERE = \" WHERE hour < 12\"\n",
    "# WHERE = \" WHERE hour < 12\"\n",
    "# WHERE = \" WHERE hour < 12\"\n"
   ]
  },
  {
   "cell_type": "code",
   "execution_count": 216,
   "id": "60229c5f-18d6-43f0-bc7b-eda165761bfa",
   "metadata": {},
   "outputs": [],
   "source": [
    "result = cursor.execute(SELECT + WHERE ).fetchall()"
   ]
  },
  {
   "cell_type": "code",
   "execution_count": 217,
   "id": "0e46985b-36e4-41e2-b27e-36c496c2d2f9",
   "metadata": {},
   "outputs": [
    {
     "data": {
      "text/plain": [
       "176"
      ]
     },
     "execution_count": 217,
     "metadata": {},
     "output_type": "execute_result"
    }
   ],
   "source": [
    "len(result)"
   ]
  },
  {
   "cell_type": "code",
   "execution_count": 218,
   "id": "6b587966-1497-49bd-b751-5d303e2c0b0b",
   "metadata": {},
   "outputs": [
    {
     "ename": "ValueError",
     "evalue": "11 columns passed, passed data had 9 columns",
     "output_type": "error",
     "traceback": [
      "\u001b[0;31m---------------------------------------------------------------------------\u001b[0m",
      "\u001b[0;31mAssertionError\u001b[0m                            Traceback (most recent call last)",
      "\u001b[0;32m~/anaconda3/lib/python3.9/site-packages/pandas/core/internals/construction.py\u001b[0m in \u001b[0;36m_finalize_columns_and_data\u001b[0;34m(content, columns, dtype)\u001b[0m\n\u001b[1;32m    905\u001b[0m     \u001b[0;32mtry\u001b[0m\u001b[0;34m:\u001b[0m\u001b[0;34m\u001b[0m\u001b[0;34m\u001b[0m\u001b[0m\n\u001b[0;32m--> 906\u001b[0;31m         \u001b[0mcolumns\u001b[0m \u001b[0;34m=\u001b[0m \u001b[0m_validate_or_indexify_columns\u001b[0m\u001b[0;34m(\u001b[0m\u001b[0mcontents\u001b[0m\u001b[0;34m,\u001b[0m \u001b[0mcolumns\u001b[0m\u001b[0;34m)\u001b[0m\u001b[0;34m\u001b[0m\u001b[0;34m\u001b[0m\u001b[0m\n\u001b[0m\u001b[1;32m    907\u001b[0m     \u001b[0;32mexcept\u001b[0m \u001b[0mAssertionError\u001b[0m \u001b[0;32mas\u001b[0m \u001b[0merr\u001b[0m\u001b[0;34m:\u001b[0m\u001b[0;34m\u001b[0m\u001b[0;34m\u001b[0m\u001b[0m\n",
      "\u001b[0;32m~/anaconda3/lib/python3.9/site-packages/pandas/core/internals/construction.py\u001b[0m in \u001b[0;36m_validate_or_indexify_columns\u001b[0;34m(content, columns)\u001b[0m\n\u001b[1;32m    953\u001b[0m             \u001b[0;31m# caller's responsibility to check for this...\u001b[0m\u001b[0;34m\u001b[0m\u001b[0;34m\u001b[0m\u001b[0m\n\u001b[0;32m--> 954\u001b[0;31m             raise AssertionError(\n\u001b[0m\u001b[1;32m    955\u001b[0m                 \u001b[0;34mf\"{len(columns)} columns passed, passed data had \"\u001b[0m\u001b[0;34m\u001b[0m\u001b[0;34m\u001b[0m\u001b[0m\n",
      "\u001b[0;31mAssertionError\u001b[0m: 11 columns passed, passed data had 9 columns",
      "\nThe above exception was the direct cause of the following exception:\n",
      "\u001b[0;31mValueError\u001b[0m                                Traceback (most recent call last)",
      "\u001b[0;32m/tmp/ipykernel_132529/2248657636.py\u001b[0m in \u001b[0;36m<module>\u001b[0;34m\u001b[0m\n\u001b[0;32m----> 1\u001b[0;31m \u001b[0mdf_query\u001b[0m \u001b[0;34m=\u001b[0m \u001b[0mpd\u001b[0m\u001b[0;34m.\u001b[0m\u001b[0mDataFrame\u001b[0m\u001b[0;34m(\u001b[0m\u001b[0mresult\u001b[0m\u001b[0;34m,\u001b[0m \u001b[0mcolumns\u001b[0m\u001b[0;34m=\u001b[0m\u001b[0mlist\u001b[0m\u001b[0;34m(\u001b[0m\u001b[0mdf_cleaned\u001b[0m\u001b[0;34m.\u001b[0m\u001b[0mcolumns\u001b[0m\u001b[0;34m)\u001b[0m\u001b[0;34m[\u001b[0m\u001b[0;34m:\u001b[0m\u001b[0;34m-\u001b[0m\u001b[0;36m1\u001b[0m\u001b[0;34m]\u001b[0m\u001b[0;34m)\u001b[0m\u001b[0;34m\u001b[0m\u001b[0;34m\u001b[0m\u001b[0m\n\u001b[0m",
      "\u001b[0;32m~/anaconda3/lib/python3.9/site-packages/pandas/core/frame.py\u001b[0m in \u001b[0;36m__init__\u001b[0;34m(self, data, index, columns, dtype, copy)\u001b[0m\n\u001b[1;32m    692\u001b[0m                         \u001b[0;31m# ndarray], Index, Series], Sequence[Any]]\"\u001b[0m\u001b[0;34m\u001b[0m\u001b[0;34m\u001b[0m\u001b[0m\n\u001b[1;32m    693\u001b[0m                         \u001b[0mcolumns\u001b[0m \u001b[0;34m=\u001b[0m \u001b[0mensure_index\u001b[0m\u001b[0;34m(\u001b[0m\u001b[0mcolumns\u001b[0m\u001b[0;34m)\u001b[0m  \u001b[0;31m# type: ignore[arg-type]\u001b[0m\u001b[0;34m\u001b[0m\u001b[0;34m\u001b[0m\u001b[0m\n\u001b[0;32m--> 694\u001b[0;31m                     arrays, columns, index = nested_data_to_arrays(\n\u001b[0m\u001b[1;32m    695\u001b[0m                         \u001b[0;31m# error: Argument 3 to \"nested_data_to_arrays\" has incompatible\u001b[0m\u001b[0;34m\u001b[0m\u001b[0;34m\u001b[0m\u001b[0m\n\u001b[1;32m    696\u001b[0m                         \u001b[0;31m# type \"Optional[Collection[Any]]\"; expected \"Optional[Index]\"\u001b[0m\u001b[0;34m\u001b[0m\u001b[0;34m\u001b[0m\u001b[0m\n",
      "\u001b[0;32m~/anaconda3/lib/python3.9/site-packages/pandas/core/internals/construction.py\u001b[0m in \u001b[0;36mnested_data_to_arrays\u001b[0;34m(data, columns, index, dtype)\u001b[0m\n\u001b[1;32m    481\u001b[0m         \u001b[0mcolumns\u001b[0m \u001b[0;34m=\u001b[0m \u001b[0mensure_index\u001b[0m\u001b[0;34m(\u001b[0m\u001b[0mdata\u001b[0m\u001b[0;34m[\u001b[0m\u001b[0;36m0\u001b[0m\u001b[0;34m]\u001b[0m\u001b[0;34m.\u001b[0m\u001b[0m_fields\u001b[0m\u001b[0;34m)\u001b[0m\u001b[0;34m\u001b[0m\u001b[0;34m\u001b[0m\u001b[0m\n\u001b[1;32m    482\u001b[0m \u001b[0;34m\u001b[0m\u001b[0m\n\u001b[0;32m--> 483\u001b[0;31m     \u001b[0marrays\u001b[0m\u001b[0;34m,\u001b[0m \u001b[0mcolumns\u001b[0m \u001b[0;34m=\u001b[0m \u001b[0mto_arrays\u001b[0m\u001b[0;34m(\u001b[0m\u001b[0mdata\u001b[0m\u001b[0;34m,\u001b[0m \u001b[0mcolumns\u001b[0m\u001b[0;34m,\u001b[0m \u001b[0mdtype\u001b[0m\u001b[0;34m=\u001b[0m\u001b[0mdtype\u001b[0m\u001b[0;34m)\u001b[0m\u001b[0;34m\u001b[0m\u001b[0;34m\u001b[0m\u001b[0m\n\u001b[0m\u001b[1;32m    484\u001b[0m     \u001b[0mcolumns\u001b[0m \u001b[0;34m=\u001b[0m \u001b[0mensure_index\u001b[0m\u001b[0;34m(\u001b[0m\u001b[0mcolumns\u001b[0m\u001b[0;34m)\u001b[0m\u001b[0;34m\u001b[0m\u001b[0;34m\u001b[0m\u001b[0m\n\u001b[1;32m    485\u001b[0m \u001b[0;34m\u001b[0m\u001b[0m\n",
      "\u001b[0;32m~/anaconda3/lib/python3.9/site-packages/pandas/core/internals/construction.py\u001b[0m in \u001b[0;36mto_arrays\u001b[0;34m(data, columns, dtype)\u001b[0m\n\u001b[1;32m    805\u001b[0m         \u001b[0marr\u001b[0m \u001b[0;34m=\u001b[0m \u001b[0m_list_to_arrays\u001b[0m\u001b[0;34m(\u001b[0m\u001b[0mdata\u001b[0m\u001b[0;34m)\u001b[0m\u001b[0;34m\u001b[0m\u001b[0;34m\u001b[0m\u001b[0m\n\u001b[1;32m    806\u001b[0m \u001b[0;34m\u001b[0m\u001b[0m\n\u001b[0;32m--> 807\u001b[0;31m     \u001b[0mcontent\u001b[0m\u001b[0;34m,\u001b[0m \u001b[0mcolumns\u001b[0m \u001b[0;34m=\u001b[0m \u001b[0m_finalize_columns_and_data\u001b[0m\u001b[0;34m(\u001b[0m\u001b[0marr\u001b[0m\u001b[0;34m,\u001b[0m \u001b[0mcolumns\u001b[0m\u001b[0;34m,\u001b[0m \u001b[0mdtype\u001b[0m\u001b[0;34m)\u001b[0m\u001b[0;34m\u001b[0m\u001b[0;34m\u001b[0m\u001b[0m\n\u001b[0m\u001b[1;32m    808\u001b[0m     \u001b[0;32mreturn\u001b[0m \u001b[0mcontent\u001b[0m\u001b[0;34m,\u001b[0m \u001b[0mcolumns\u001b[0m\u001b[0;34m\u001b[0m\u001b[0;34m\u001b[0m\u001b[0m\n\u001b[1;32m    809\u001b[0m \u001b[0;34m\u001b[0m\u001b[0m\n",
      "\u001b[0;32m~/anaconda3/lib/python3.9/site-packages/pandas/core/internals/construction.py\u001b[0m in \u001b[0;36m_finalize_columns_and_data\u001b[0;34m(content, columns, dtype)\u001b[0m\n\u001b[1;32m    907\u001b[0m     \u001b[0;32mexcept\u001b[0m \u001b[0mAssertionError\u001b[0m \u001b[0;32mas\u001b[0m \u001b[0merr\u001b[0m\u001b[0;34m:\u001b[0m\u001b[0;34m\u001b[0m\u001b[0;34m\u001b[0m\u001b[0m\n\u001b[1;32m    908\u001b[0m         \u001b[0;31m# GH#26429 do not raise user-facing AssertionError\u001b[0m\u001b[0;34m\u001b[0m\u001b[0;34m\u001b[0m\u001b[0m\n\u001b[0;32m--> 909\u001b[0;31m         \u001b[0;32mraise\u001b[0m \u001b[0mValueError\u001b[0m\u001b[0;34m(\u001b[0m\u001b[0merr\u001b[0m\u001b[0;34m)\u001b[0m \u001b[0;32mfrom\u001b[0m \u001b[0merr\u001b[0m\u001b[0;34m\u001b[0m\u001b[0;34m\u001b[0m\u001b[0m\n\u001b[0m\u001b[1;32m    910\u001b[0m \u001b[0;34m\u001b[0m\u001b[0m\n\u001b[1;32m    911\u001b[0m     \u001b[0;32mif\u001b[0m \u001b[0mlen\u001b[0m\u001b[0;34m(\u001b[0m\u001b[0mcontents\u001b[0m\u001b[0;34m)\u001b[0m \u001b[0;32mand\u001b[0m \u001b[0mcontents\u001b[0m\u001b[0;34m[\u001b[0m\u001b[0;36m0\u001b[0m\u001b[0;34m]\u001b[0m\u001b[0;34m.\u001b[0m\u001b[0mdtype\u001b[0m \u001b[0;34m==\u001b[0m \u001b[0mnp\u001b[0m\u001b[0;34m.\u001b[0m\u001b[0mobject_\u001b[0m\u001b[0;34m:\u001b[0m\u001b[0;34m\u001b[0m\u001b[0;34m\u001b[0m\u001b[0m\n",
      "\u001b[0;31mValueError\u001b[0m: 11 columns passed, passed data had 9 columns"
     ]
    }
   ],
   "source": [
    "df_query = pd.DataFrame(result, columns=list(df_cleaned.columns)[:-1])"
   ]
  },
  {
   "cell_type": "code",
   "execution_count": null,
   "id": "305b5aaf-09a8-4475-b1d6-4e260ded5e4a",
   "metadata": {},
   "outputs": [],
   "source": [
    "df_query"
   ]
  },
  {
   "cell_type": "code",
   "execution_count": null,
   "id": "bedb4778-ceb6-4ed0-86fc-10574a10da50",
   "metadata": {},
   "outputs": [],
   "source": [
    "data = list(df_query['measured_values'])"
   ]
  },
  {
   "cell_type": "code",
   "execution_count": null,
   "id": "189e5906-8860-4cd8-bf00-5c923f58ccc2",
   "metadata": {},
   "outputs": [],
   "source": [
    "plt.plot(data)\n",
    "plt.show()"
   ]
  },
  {
   "cell_type": "code",
   "execution_count": null,
   "id": "790833f4-ba37-4357-9daa-d00a15a54ae3",
   "metadata": {},
   "outputs": [],
   "source": [
    "list(df_query.columns)"
   ]
  },
  {
   "cell_type": "code",
   "execution_count": null,
   "id": "459e0a32-f034-4629-aa18-cd6dc4889935",
   "metadata": {},
   "outputs": [],
   "source": [
    " list(df_query['measured_values'])"
   ]
  },
  {
   "cell_type": "code",
   "execution_count": null,
   "id": "50016657-ce72-4dc1-8da3-683feaf689a2",
   "metadata": {},
   "outputs": [],
   "source": [
    "# date_start = (2022, 11 , 2)\n",
    "# date_end = ((2022, 11 , 4))"
   ]
  },
  {
   "cell_type": "code",
   "execution_count": 121,
   "id": "ce7eae74-b261-46e4-8d0f-d53d49867e2e",
   "metadata": {},
   "outputs": [
    {
     "data": {
      "image/png": "[encoded data removed]",
      "text/plain": [
       "<Figure size 432x288 with 1 Axes>"
      ]
     },
     "metadata": {
      "needs_background": "light"
     },
     "output_type": "display_data"
    }
   ],
   "source": [
    "import matplotlib.pyplot as plt\n",
    "from matplotlib.dates import (YEARLY, DateFormatter,\n",
    "                              rrulewrapper, RRuleLocator, drange)\n",
    "import numpy as np\n",
    "import datetime\n",
    "\n",
    "# Fixing random state for reproducibility\n",
    "np.random.seed(19680801)\n",
    "\n",
    "\n",
    "# tick every 5th easter\n",
    "rule = rrulewrapper(YEARLY, byeaster=1, interval=5)\n",
    "loc = RRuleLocator(rule)\n",
    "formatter = DateFormatter('%m/%d/%y')\n",
    "date1 = datetime.date(2022, 11, 2)\n",
    "date2 = datetime.date(2022, 11, 4)\n",
    "delta = datetime.timedelta(days=1)\n",
    "\n",
    "dates = drange(date1, date2, delta)\n",
    "s = np.random.rand(len(dates))  # make up some random y values\n",
    "\n",
    "\n",
    "fig, ax = plt.subplots()\n",
    "plt.plot_date(dates, s)\n",
    "ax.xaxis.set_major_locator(loc)\n",
    "ax.xaxis.set_major_formatter(formatter)\n",
    "ax.xaxis.set_tick_params(rotation=30, labelsize=10)\n",
    "\n",
    "plt.show()\n"
   ]
  },
  {
   "cell_type": "code",
   "execution_count": 137,
   "id": "227123e2-a363-4cbf-857e-e5a4263e0384",
   "metadata": {
    "collapsed": true,
    "jupyter": {
     "outputs_hidden": true
    },
    "tags": []
   },
   "outputs": [
    {
     "data": {
      "text/plain": [
       "array([datetime.datetime(2022, 11, 2, 19, 5, 44, 127),\n",
       "       datetime.datetime(2022, 11, 2, 19, 35, 37, 379),\n",
       "       datetime.datetime(2022, 11, 2, 19, 53, 27, 666),\n",
       "       datetime.datetime(2022, 11, 2, 21, 53, 19, 541),\n",
       "       datetime.datetime(2022, 11, 2, 22, 23, 14, 835),\n",
       "       datetime.datetime(2022, 11, 2, 23, 59, 57, 704),\n",
       "       datetime.datetime(2022, 11, 3, 13, 32, 26, 765),\n",
       "       datetime.datetime(2022, 11, 3, 13, 32, 42, 900),\n",
       "       datetime.datetime(2022, 11, 3, 13, 32, 56, 477),\n",
       "       datetime.datetime(2022, 11, 3, 13, 33, 12, 918),\n",
       "       datetime.datetime(2022, 11, 3, 13, 33, 26, 485),\n",
       "       datetime.datetime(2022, 11, 3, 13, 33, 41, 498),\n",
       "       datetime.datetime(2022, 11, 3, 13, 33, 56, 481),\n",
       "       datetime.datetime(2022, 11, 3, 13, 34, 12, 918),\n",
       "       datetime.datetime(2022, 11, 3, 13, 34, 28, 11),\n",
       "       datetime.datetime(2022, 11, 3, 13, 34, 41, 473),\n",
       "       datetime.datetime(2022, 11, 3, 13, 34, 56, 458),\n",
       "       datetime.datetime(2022, 11, 3, 13, 35, 11, 444),\n",
       "       datetime.datetime(2022, 11, 3, 13, 35, 26, 475),\n",
       "       datetime.datetime(2022, 11, 3, 13, 35, 41, 689),\n",
       "       datetime.datetime(2022, 11, 3, 13, 35, 56, 471),\n",
       "       datetime.datetime(2022, 11, 3, 13, 35, 56, 471),\n",
       "       datetime.datetime(2022, 11, 3, 13, 36, 11, 409),\n",
       "       datetime.datetime(2022, 11, 3, 13, 36, 11, 409),\n",
       "       datetime.datetime(2022, 11, 3, 13, 36, 28, 13),\n",
       "       datetime.datetime(2022, 11, 3, 13, 36, 41, 470),\n",
       "       datetime.datetime(2022, 11, 3, 13, 37, 43, 443),\n",
       "       datetime.datetime(2022, 11, 3, 13, 39, 41, 560),\n",
       "       datetime.datetime(2022, 11, 3, 13, 39, 56, 539),\n",
       "       datetime.datetime(2022, 11, 3, 13, 40, 11, 568),\n",
       "       datetime.datetime(2022, 11, 3, 13, 40, 28, 19),\n",
       "       datetime.datetime(2022, 11, 3, 13, 40, 41, 566),\n",
       "       datetime.datetime(2022, 11, 3, 13, 40, 41, 566),\n",
       "       datetime.datetime(2022, 11, 3, 13, 40, 56, 871),\n",
       "       datetime.datetime(2022, 11, 3, 13, 41, 11, 527),\n",
       "       datetime.datetime(2022, 11, 3, 13, 41, 26, 862),\n",
       "       datetime.datetime(2022, 11, 3, 13, 41, 41, 526),\n",
       "       datetime.datetime(2022, 11, 3, 13, 41, 56, 483),\n",
       "       datetime.datetime(2022, 11, 3, 13, 42, 11, 532),\n",
       "       datetime.datetime(2022, 11, 3, 13, 42, 26, 499),\n",
       "       datetime.datetime(2022, 11, 3, 13, 49, 56, 907),\n",
       "       datetime.datetime(2022, 11, 3, 13, 56, 11, 682),\n",
       "       datetime.datetime(2022, 11, 3, 13, 56, 26, 642),\n",
       "       datetime.datetime(2022, 11, 3, 13, 56, 41, 901),\n",
       "       datetime.datetime(2022, 11, 3, 13, 56, 56, 584),\n",
       "       datetime.datetime(2022, 11, 3, 13, 57, 15, 695),\n",
       "       datetime.datetime(2022, 11, 3, 13, 57, 26, 580),\n",
       "       datetime.datetime(2022, 11, 3, 13, 57, 41, 828),\n",
       "       datetime.datetime(2022, 11, 3, 13, 57, 56, 557),\n",
       "       datetime.datetime(2022, 11, 3, 13, 58, 11, 691),\n",
       "       datetime.datetime(2022, 11, 3, 13, 58, 26, 851),\n",
       "       datetime.datetime(2022, 11, 3, 13, 58, 41, 654),\n",
       "       datetime.datetime(2022, 11, 3, 13, 58, 56, 590),\n",
       "       datetime.datetime(2022, 11, 3, 13, 59, 11, 766),\n",
       "       datetime.datetime(2022, 11, 3, 13, 59, 26, 592),\n",
       "       datetime.datetime(2022, 11, 3, 13, 59, 44, 595),\n",
       "       datetime.datetime(2022, 11, 3, 13, 59, 56, 856),\n",
       "       datetime.datetime(2022, 11, 3, 14, 0, 11, 694),\n",
       "       datetime.datetime(2022, 11, 3, 14, 0, 26, 645),\n",
       "       datetime.datetime(2022, 11, 3, 14, 0, 41, 620),\n",
       "       datetime.datetime(2022, 11, 3, 14, 0, 56, 618),\n",
       "       datetime.datetime(2022, 11, 3, 14, 1, 11, 575),\n",
       "       datetime.datetime(2022, 11, 3, 14, 1, 28, 64),\n",
       "       datetime.datetime(2022, 11, 3, 14, 1, 41, 623),\n",
       "       datetime.datetime(2022, 11, 3, 14, 1, 56, 612),\n",
       "       datetime.datetime(2022, 11, 3, 14, 2, 11, 592),\n",
       "       datetime.datetime(2022, 11, 3, 14, 3, 26, 591),\n",
       "       datetime.datetime(2022, 11, 3, 14, 3, 41, 599),\n",
       "       datetime.datetime(2022, 11, 3, 14, 3, 56, 645),\n",
       "       datetime.datetime(2022, 11, 3, 14, 4, 11, 563),\n",
       "       datetime.datetime(2022, 11, 3, 14, 4, 28, 108),\n",
       "       datetime.datetime(2022, 11, 3, 14, 4, 43, 103),\n",
       "       datetime.datetime(2022, 11, 3, 14, 4, 57, 103),\n",
       "       datetime.datetime(2022, 11, 3, 14, 5, 11, 653),\n",
       "       datetime.datetime(2022, 11, 3, 14, 5, 26, 638),\n",
       "       datetime.datetime(2022, 11, 3, 14, 5, 41, 609),\n",
       "       datetime.datetime(2022, 11, 3, 14, 5, 56, 641),\n",
       "       datetime.datetime(2022, 11, 3, 14, 6, 11, 668),\n",
       "       datetime.datetime(2022, 11, 3, 14, 6, 26, 829),\n",
       "       datetime.datetime(2022, 11, 3, 14, 6, 41, 662),\n",
       "       datetime.datetime(2022, 11, 3, 14, 6, 56, 696),\n",
       "       datetime.datetime(2022, 11, 3, 14, 7, 11, 663),\n",
       "       datetime.datetime(2022, 11, 3, 14, 7, 26, 703),\n",
       "       datetime.datetime(2022, 11, 3, 14, 7, 41, 660),\n",
       "       datetime.datetime(2022, 11, 3, 14, 7, 56, 626),\n",
       "       datetime.datetime(2022, 11, 3, 14, 8, 11, 630),\n",
       "       datetime.datetime(2022, 11, 3, 14, 8, 27, 624),\n",
       "       datetime.datetime(2022, 11, 3, 14, 8, 41, 676),\n",
       "       datetime.datetime(2022, 11, 3, 14, 8, 56, 714),\n",
       "       datetime.datetime(2022, 11, 3, 14, 9, 12, 73),\n",
       "       datetime.datetime(2022, 11, 3, 14, 9, 26, 709),\n",
       "       datetime.datetime(2022, 11, 3, 14, 9, 41, 643),\n",
       "       datetime.datetime(2022, 11, 3, 14, 9, 58, 129),\n",
       "       datetime.datetime(2022, 11, 3, 14, 10, 12, 683),\n",
       "       datetime.datetime(2022, 11, 3, 14, 10, 26, 713),\n",
       "       datetime.datetime(2022, 11, 3, 14, 10, 57, 57),\n",
       "       datetime.datetime(2022, 11, 3, 14, 11, 11, 641),\n",
       "       datetime.datetime(2022, 11, 3, 14, 11, 27, 16),\n",
       "       datetime.datetime(2022, 11, 3, 14, 11, 41, 705),\n",
       "       datetime.datetime(2022, 11, 3, 14, 11, 57, 62),\n",
       "       datetime.datetime(2022, 11, 3, 14, 12, 11, 668),\n",
       "       datetime.datetime(2022, 11, 3, 14, 12, 26, 645),\n",
       "       datetime.datetime(2022, 11, 3, 14, 12, 41, 721),\n",
       "       datetime.datetime(2022, 11, 3, 14, 12, 41, 721),\n",
       "       datetime.datetime(2022, 11, 3, 14, 12, 56, 732),\n",
       "       datetime.datetime(2022, 11, 3, 14, 13, 11, 692),\n",
       "       datetime.datetime(2022, 11, 3, 14, 13, 26, 738),\n",
       "       datetime.datetime(2022, 11, 3, 14, 13, 41, 691),\n",
       "       datetime.datetime(2022, 11, 3, 14, 13, 56, 621),\n",
       "       datetime.datetime(2022, 11, 3, 14, 14, 11, 711),\n",
       "       datetime.datetime(2022, 11, 3, 14, 14, 26, 974),\n",
       "       datetime.datetime(2022, 11, 3, 14, 14, 41, 672),\n",
       "       datetime.datetime(2022, 11, 3, 14, 14, 56, 966),\n",
       "       datetime.datetime(2022, 11, 3, 14, 15, 11, 670),\n",
       "       datetime.datetime(2022, 11, 3, 14, 15, 26, 709),\n",
       "       datetime.datetime(2022, 11, 3, 14, 15, 41, 689),\n",
       "       datetime.datetime(2022, 11, 3, 14, 15, 56, 998),\n",
       "       datetime.datetime(2022, 11, 3, 14, 17, 10, 72),\n",
       "       datetime.datetime(2022, 11, 3, 14, 18, 9, 960),\n",
       "       datetime.datetime(2022, 11, 3, 14, 19, 9, 967),\n",
       "       datetime.datetime(2022, 11, 3, 14, 20, 9, 948),\n",
       "       datetime.datetime(2022, 11, 3, 14, 21, 10, 16),\n",
       "       datetime.datetime(2022, 11, 3, 14, 22, 9, 936),\n",
       "       datetime.datetime(2022, 11, 3, 14, 24, 9, 932),\n",
       "       datetime.datetime(2022, 11, 3, 14, 25, 10, 365),\n",
       "       datetime.datetime(2022, 11, 3, 14, 26, 9, 988),\n",
       "       datetime.datetime(2022, 11, 3, 14, 27, 10, 428),\n",
       "       datetime.datetime(2022, 11, 3, 14, 28, 13, 391),\n",
       "       datetime.datetime(2022, 11, 3, 14, 29, 10, 296),\n",
       "       datetime.datetime(2022, 11, 3, 14, 30, 9, 969),\n",
       "       datetime.datetime(2022, 11, 3, 14, 31, 10, 85),\n",
       "       datetime.datetime(2022, 11, 3, 14, 32, 11, 945),\n",
       "       datetime.datetime(2022, 11, 3, 14, 33, 10, 345),\n",
       "       datetime.datetime(2022, 11, 3, 14, 35, 10, 320),\n",
       "       datetime.datetime(2022, 11, 3, 14, 36, 10, 20),\n",
       "       datetime.datetime(2022, 11, 3, 14, 36, 10, 20),\n",
       "       datetime.datetime(2022, 11, 3, 14, 37, 9, 986),\n",
       "       datetime.datetime(2022, 11, 3, 14, 38, 12, 493),\n",
       "       datetime.datetime(2022, 11, 3, 14, 39, 9, 944),\n",
       "       datetime.datetime(2022, 11, 3, 14, 40, 9, 959),\n",
       "       datetime.datetime(2022, 11, 3, 14, 41, 9, 976),\n",
       "       datetime.datetime(2022, 11, 3, 14, 42, 10, 15),\n",
       "       datetime.datetime(2022, 11, 3, 14, 43, 10, 275),\n",
       "       datetime.datetime(2022, 11, 3, 14, 44, 10, 24),\n",
       "       datetime.datetime(2022, 11, 3, 14, 45, 10, 320),\n",
       "       datetime.datetime(2022, 11, 3, 14, 46, 9, 993),\n",
       "       datetime.datetime(2022, 11, 3, 14, 48, 10, 80),\n",
       "       datetime.datetime(2022, 11, 3, 14, 49, 10, 18),\n",
       "       datetime.datetime(2022, 11, 3, 14, 50, 10, 77),\n",
       "       datetime.datetime(2022, 11, 3, 14, 51, 10, 27),\n",
       "       datetime.datetime(2022, 11, 3, 14, 52, 11, 146),\n",
       "       datetime.datetime(2022, 11, 3, 14, 53, 10, 64),\n",
       "       datetime.datetime(2022, 11, 3, 14, 54, 10, 444),\n",
       "       datetime.datetime(2022, 11, 3, 14, 55, 10, 408),\n",
       "       datetime.datetime(2022, 11, 3, 14, 56, 12, 64),\n",
       "       datetime.datetime(2022, 11, 3, 14, 57, 11, 447),\n",
       "       datetime.datetime(2022, 11, 3, 14, 58, 10, 436),\n",
       "       datetime.datetime(2022, 11, 3, 14, 59, 10, 482),\n",
       "       datetime.datetime(2022, 11, 3, 15, 1, 10, 391),\n",
       "       datetime.datetime(2022, 11, 3, 15, 2, 10, 403),\n",
       "       datetime.datetime(2022, 11, 3, 15, 3, 10, 337),\n",
       "       datetime.datetime(2022, 11, 3, 15, 4, 10, 204),\n",
       "       datetime.datetime(2022, 11, 3, 15, 5, 10, 363),\n",
       "       datetime.datetime(2022, 11, 3, 15, 6, 10, 214),\n",
       "       datetime.datetime(2022, 11, 3, 15, 7, 10, 154),\n",
       "       datetime.datetime(2022, 11, 3, 15, 8, 10, 181),\n",
       "       datetime.datetime(2022, 11, 3, 15, 9, 10, 131),\n",
       "       datetime.datetime(2022, 11, 3, 15, 10, 10, 208),\n",
       "       datetime.datetime(2022, 11, 3, 15, 11, 10, 198),\n",
       "       datetime.datetime(2022, 11, 3, 15, 12, 10, 610),\n",
       "       datetime.datetime(2022, 11, 3, 15, 13, 10, 124),\n",
       "       datetime.datetime(2022, 11, 3, 15, 15, 10, 301),\n",
       "       datetime.datetime(2022, 11, 3, 15, 17, 11, 697),\n",
       "       datetime.datetime(2022, 11, 3, 15, 18, 10, 156),\n",
       "       datetime.datetime(2022, 11, 3, 15, 21, 10, 213),\n",
       "       datetime.datetime(2022, 11, 3, 15, 22, 10, 470),\n",
       "       datetime.datetime(2022, 11, 3, 15, 23, 10, 171),\n",
       "       datetime.datetime(2022, 11, 3, 15, 24, 10, 110),\n",
       "       datetime.datetime(2022, 11, 3, 15, 25, 10, 217),\n",
       "       datetime.datetime(2022, 11, 3, 15, 30, 10, 239),\n",
       "       datetime.datetime(2022, 11, 3, 15, 31, 10, 319),\n",
       "       datetime.datetime(2022, 11, 3, 15, 36, 10, 347),\n",
       "       datetime.datetime(2022, 11, 3, 15, 37, 10, 184),\n",
       "       datetime.datetime(2022, 11, 3, 15, 38, 11, 736),\n",
       "       datetime.datetime(2022, 11, 3, 15, 40, 10, 598),\n",
       "       datetime.datetime(2022, 11, 3, 15, 41, 10, 293),\n",
       "       datetime.datetime(2022, 11, 3, 15, 46, 37, 866),\n",
       "       datetime.datetime(2022, 11, 3, 15, 46, 37, 866),\n",
       "       datetime.datetime(2022, 11, 3, 15, 51, 37, 815),\n",
       "       datetime.datetime(2022, 11, 3, 15, 56, 37, 894),\n",
       "       datetime.datetime(2022, 11, 3, 16, 1, 37, 863),\n",
       "       datetime.datetime(2022, 11, 3, 16, 11, 37, 812),\n",
       "       datetime.datetime(2022, 11, 3, 16, 26, 37, 856),\n",
       "       datetime.datetime(2022, 11, 3, 16, 51, 38, 927),\n",
       "       datetime.datetime(2022, 11, 3, 16, 54, 21, 478),\n",
       "       datetime.datetime(2022, 11, 3, 17, 35, 41, 435),\n",
       "       datetime.datetime(2022, 11, 3, 17, 35, 44, 620),\n",
       "       datetime.datetime(2022, 11, 3, 17, 35, 50, 779),\n",
       "       datetime.datetime(2022, 11, 3, 17, 36, 13, 591),\n",
       "       datetime.datetime(2022, 11, 3, 17, 36, 16, 879),\n",
       "       datetime.datetime(2022, 11, 3, 17, 36, 24, 73),\n",
       "       datetime.datetime(2022, 11, 3, 17, 36, 38, 948),\n",
       "       datetime.datetime(2022, 11, 3, 17, 36, 38, 948),\n",
       "       datetime.datetime(2022, 11, 3, 17, 36, 39, 367),\n",
       "       datetime.datetime(2022, 11, 3, 17, 36, 39, 411),\n",
       "       datetime.datetime(2022, 11, 3, 17, 36, 52, 65),\n",
       "       datetime.datetime(2022, 11, 3, 17, 36, 58, 917),\n",
       "       datetime.datetime(2022, 11, 3, 17, 37, 12, 814),\n",
       "       datetime.datetime(2022, 11, 3, 17, 37, 30, 630),\n",
       "       datetime.datetime(2022, 11, 3, 17, 37, 30, 858),\n",
       "       datetime.datetime(2022, 11, 3, 17, 38, 7, 507),\n",
       "       datetime.datetime(2022, 11, 3, 17, 38, 9, 865),\n",
       "       datetime.datetime(2022, 11, 3, 17, 38, 10, 232),\n",
       "       datetime.datetime(2022, 11, 3, 17, 52, 5, 691),\n",
       "       datetime.datetime(2022, 11, 3, 17, 52, 38, 555),\n",
       "       datetime.datetime(2022, 11, 3, 17, 52, 38, 555),\n",
       "       datetime.datetime(2022, 11, 3, 17, 53, 2, 980),\n",
       "       datetime.datetime(2022, 11, 3, 17, 53, 14, 783),\n",
       "       datetime.datetime(2022, 11, 3, 17, 53, 15, 75),\n",
       "       datetime.datetime(2022, 11, 3, 17, 53, 24, 919),\n",
       "       datetime.datetime(2022, 11, 3, 17, 53, 41, 445),\n",
       "       datetime.datetime(2022, 11, 3, 17, 54, 10, 757),\n",
       "       datetime.datetime(2022, 11, 3, 17, 54, 11, 665),\n",
       "       datetime.datetime(2022, 11, 3, 17, 54, 11, 974),\n",
       "       datetime.datetime(2022, 11, 3, 17, 54, 11, 974),\n",
       "       datetime.datetime(2022, 11, 3, 17, 55, 1, 71),\n",
       "       datetime.datetime(2022, 11, 3, 17, 55, 1, 363),\n",
       "       datetime.datetime(2022, 11, 3, 17, 55, 2, 43),\n",
       "       datetime.datetime(2022, 11, 3, 17, 55, 58, 2),\n",
       "       datetime.datetime(2022, 11, 3, 17, 55, 58, 276),\n",
       "       datetime.datetime(2022, 11, 3, 17, 56, 2, 66),\n",
       "       datetime.datetime(2022, 11, 3, 17, 56, 22, 96),\n",
       "       datetime.datetime(2022, 11, 3, 17, 56, 22, 96),\n",
       "       datetime.datetime(2022, 11, 3, 17, 56, 29, 769),\n",
       "       datetime.datetime(2022, 11, 3, 17, 56, 30, 65),\n",
       "       datetime.datetime(2022, 11, 3, 17, 56, 39, 228),\n",
       "       datetime.datetime(2022, 11, 3, 17, 56, 40, 907),\n",
       "       datetime.datetime(2022, 11, 3, 17, 56, 51, 374),\n",
       "       datetime.datetime(2022, 11, 3, 17, 57, 37, 774),\n",
       "       datetime.datetime(2022, 11, 3, 18, 1, 39, 113),\n",
       "       datetime.datetime(2022, 11, 3, 18, 6, 39, 184),\n",
       "       datetime.datetime(2022, 11, 3, 18, 11, 39, 174),\n",
       "       datetime.datetime(2022, 11, 3, 18, 16, 39, 165),\n",
       "       datetime.datetime(2022, 11, 3, 18, 21, 39, 87),\n",
       "       datetime.datetime(2022, 11, 3, 18, 26, 39, 181),\n",
       "       datetime.datetime(2022, 11, 3, 18, 26, 39, 181),\n",
       "       datetime.datetime(2022, 11, 3, 18, 31, 39, 75),\n",
       "       datetime.datetime(2022, 11, 3, 18, 36, 39, 152),\n",
       "       datetime.datetime(2022, 11, 3, 18, 41, 39, 265),\n",
       "       datetime.datetime(2022, 11, 3, 18, 46, 39, 164),\n",
       "       datetime.datetime(2022, 11, 3, 18, 51, 39, 155),\n",
       "       datetime.datetime(2022, 11, 3, 18, 56, 39, 253),\n",
       "       datetime.datetime(2022, 11, 3, 19, 1, 39, 109),\n",
       "       datetime.datetime(2022, 11, 3, 19, 11, 39, 157),\n",
       "       datetime.datetime(2022, 11, 3, 19, 16, 39, 77),\n",
       "       datetime.datetime(2022, 11, 3, 19, 21, 39, 168),\n",
       "       datetime.datetime(2022, 11, 3, 19, 26, 39, 164),\n",
       "       datetime.datetime(2022, 11, 3, 19, 31, 39, 303),\n",
       "       datetime.datetime(2022, 11, 3, 19, 36, 39, 147),\n",
       "       datetime.datetime(2022, 11, 3, 19, 41, 39, 137),\n",
       "       datetime.datetime(2022, 11, 3, 19, 46, 39, 304),\n",
       "       datetime.datetime(2022, 11, 3, 19, 51, 39, 158),\n",
       "       datetime.datetime(2022, 11, 3, 19, 56, 39, 297),\n",
       "       datetime.datetime(2022, 11, 3, 20, 1, 39, 155),\n",
       "       datetime.datetime(2022, 11, 3, 20, 6, 39, 166),\n",
       "       datetime.datetime(2022, 11, 3, 20, 11, 39, 82),\n",
       "       datetime.datetime(2022, 11, 3, 20, 16, 39, 294),\n",
       "       datetime.datetime(2022, 11, 3, 20, 21, 39, 108),\n",
       "       datetime.datetime(2022, 11, 3, 20, 26, 39, 230),\n",
       "       datetime.datetime(2022, 11, 3, 20, 31, 39, 74),\n",
       "       datetime.datetime(2022, 11, 3, 20, 36, 39, 172),\n",
       "       datetime.datetime(2022, 11, 3, 20, 41, 39, 105),\n",
       "       datetime.datetime(2022, 11, 3, 20, 46, 39, 248),\n",
       "       datetime.datetime(2022, 11, 3, 20, 51, 39, 98),\n",
       "       datetime.datetime(2022, 11, 3, 20, 56, 39, 159),\n",
       "       datetime.datetime(2022, 11, 3, 20, 56, 39, 159),\n",
       "       datetime.datetime(2022, 11, 3, 21, 1, 39, 189),\n",
       "       datetime.datetime(2022, 11, 3, 21, 6, 39, 230),\n",
       "       datetime.datetime(2022, 11, 3, 21, 11, 39, 232),\n",
       "       datetime.datetime(2022, 11, 3, 21, 16, 39, 138),\n",
       "       datetime.datetime(2022, 11, 3, 21, 16, 39, 138),\n",
       "       datetime.datetime(2022, 11, 3, 21, 21, 39, 149),\n",
       "       datetime.datetime(2022, 11, 3, 21, 26, 39, 201),\n",
       "       datetime.datetime(2022, 11, 3, 21, 31, 39, 240),\n",
       "       datetime.datetime(2022, 11, 3, 21, 36, 39, 169),\n",
       "       datetime.datetime(2022, 11, 3, 21, 41, 39, 208),\n",
       "       datetime.datetime(2022, 11, 3, 21, 46, 39, 249),\n",
       "       datetime.datetime(2022, 11, 3, 21, 51, 39, 177),\n",
       "       datetime.datetime(2022, 11, 3, 21, 56, 39, 110),\n",
       "       datetime.datetime(2022, 11, 3, 22, 1, 39, 211),\n",
       "       datetime.datetime(2022, 11, 3, 22, 6, 39, 227),\n",
       "       datetime.datetime(2022, 11, 3, 22, 16, 39, 226),\n",
       "       datetime.datetime(2022, 11, 3, 22, 26, 39, 169),\n",
       "       datetime.datetime(2022, 11, 3, 22, 31, 39, 95),\n",
       "       datetime.datetime(2022, 11, 3, 22, 36, 39, 246),\n",
       "       datetime.datetime(2022, 11, 3, 22, 51, 39, 243),\n",
       "       datetime.datetime(2022, 11, 3, 22, 56, 39, 199),\n",
       "       datetime.datetime(2022, 11, 3, 23, 1, 39, 243),\n",
       "       datetime.datetime(2022, 11, 3, 23, 26, 39, 273),\n",
       "       datetime.datetime(2022, 11, 3, 23, 36, 39, 117),\n",
       "       datetime.datetime(2022, 11, 3, 23, 41, 39, 249),\n",
       "       datetime.datetime(2022, 11, 3, 23, 46, 39, 105),\n",
       "       datetime.datetime(2022, 11, 3, 23, 51, 39, 251),\n",
       "       datetime.datetime(2022, 11, 4, 0, 21, 39, 413),\n",
       "       datetime.datetime(2022, 11, 4, 0, 26, 39, 401),\n",
       "       datetime.datetime(2022, 11, 4, 0, 36, 39, 343),\n",
       "       datetime.datetime(2022, 11, 4, 0, 41, 39, 355),\n",
       "       datetime.datetime(2022, 11, 4, 0, 46, 39, 449),\n",
       "       datetime.datetime(2022, 11, 4, 0, 51, 39, 464),\n",
       "       datetime.datetime(2022, 11, 4, 1, 1, 39, 435),\n",
       "       datetime.datetime(2022, 11, 4, 1, 1, 39, 435),\n",
       "       datetime.datetime(2022, 11, 4, 1, 11, 39, 424),\n",
       "       datetime.datetime(2022, 11, 4, 1, 16, 39, 518),\n",
       "       datetime.datetime(2022, 11, 4, 1, 21, 39, 469),\n",
       "       datetime.datetime(2022, 11, 4, 1, 41, 39, 592),\n",
       "       datetime.datetime(2022, 11, 4, 1, 46, 39, 531),\n",
       "       datetime.datetime(2022, 11, 4, 1, 51, 39, 544),\n",
       "       datetime.datetime(2022, 11, 4, 2, 1, 39, 577),\n",
       "       datetime.datetime(2022, 11, 4, 2, 6, 39, 526),\n",
       "       datetime.datetime(2022, 11, 4, 2, 11, 39, 599),\n",
       "       datetime.datetime(2022, 11, 4, 2, 21, 39, 620),\n",
       "       datetime.datetime(2022, 11, 4, 2, 26, 39, 580),\n",
       "       datetime.datetime(2022, 11, 4, 2, 31, 39, 577),\n",
       "       datetime.datetime(2022, 11, 4, 2, 36, 39, 619),\n",
       "       datetime.datetime(2022, 11, 4, 11, 42, 11, 387),\n",
       "       datetime.datetime(2022, 11, 4, 11, 42, 56, 484),\n",
       "       datetime.datetime(2022, 11, 4, 11, 47, 56, 387),\n",
       "       datetime.datetime(2022, 11, 4, 11, 52, 56, 420),\n",
       "       datetime.datetime(2022, 11, 4, 11, 57, 56, 336),\n",
       "       datetime.datetime(2022, 11, 4, 12, 2, 56, 414),\n",
       "       datetime.datetime(2022, 11, 4, 12, 7, 56, 437),\n",
       "       datetime.datetime(2022, 11, 4, 12, 12, 56, 493),\n",
       "       datetime.datetime(2022, 11, 4, 12, 17, 56, 332),\n",
       "       datetime.datetime(2022, 11, 4, 12, 22, 56, 430)], dtype=object)"
      ]
     },
     "execution_count": 137,
     "metadata": {},
     "output_type": "execute_result"
    }
   ],
   "source": [
    "np.array([datetime.datetime.fromtimestamp(stamp) for stamp in df_query['stamp']])"
   ]
  },
  {
   "cell_type": "code",
   "execution_count": 136,
   "id": "3baa4e83-14e0-4188-b1dd-4fa871626696",
   "metadata": {},
   "outputs": [
    {
     "data": {
      "text/plain": [
       "datetime.datetime(2022, 11, 3, 18, 1, 39, 113)"
      ]
     },
     "execution_count": 136,
     "metadata": {},
     "output_type": "execute_result"
    }
   ],
   "source": [
    "datetime.datetime.fromtimestamp(df_query['stamp'][0])"
   ]
  },
  {
   "cell_type": "code",
   "execution_count": 144,
   "id": "430f7e04-f639-498a-9d4a-c1466da577a2",
   "metadata": {},
   "outputs": [
    {
     "data": {
      "text/plain": [
       "Text(0, 0.5, 'values')"
      ]
     },
     "execution_count": 144,
     "metadata": {},
     "output_type": "execute_result"
    },
    {
     "data": {
      "image/png": "[encoded data removed]",
      "text/plain": [
       "<Figure size 432x288 with 1 Axes>"
      ]
     },
     "metadata": {
      "needs_background": "light"
     },
     "output_type": "display_data"
    }
   ],
   "source": [
    "import pandas as pd\n",
    "import matplotlib.pyplot as plt\n",
    "import datetime\n",
    "import numpy as np\n",
    " \n",
    "# Let say we have a dataframe of the days of\n",
    "# the week and number of classes in each day of the upcoming week.\n",
    "# Taking 7 days from 1-11-2021 to 7-11-2021\n",
    " \n",
    "dataframe = pd.DataFrame({'date': np.array([datetime.datetime.fromtimestamp(stamp) for stamp in df_query['stamp']]),\n",
    "                          'values': list(df_query['measured_values'])})\n",
    " \n",
    "# To draw scatter time series plot of the given dataframe\n",
    "# plt.plot_date(dataframe.date, dataframe.values)\n",
    "plt.plot(dataframe.date, dataframe.values)\n",
    " \n",
    "# rotating the x-axis tick labels at 30degree towards right\n",
    "plt.xticks(rotation=30, ha='right')\n",
    " \n",
    "# Giving title to the chart using plt.title\n",
    "plt.title('Classes by Date')\n",
    " \n",
    "# Providing x and y label to the chart\n",
    "plt.xlabel('Date')\n",
    "plt.ylabel('values')"
   ]
  },
  {
   "cell_type": "code",
   "execution_count": 142,
   "id": "195cc032-c42a-4532-9cf0-0417af0430d5",
   "metadata": {},
   "outputs": [
    {
     "data": {
      "text/html": [
       "<div>\n",
       "<style scoped>\n",
       "    .dataframe tbody tr th:only-of-type {\n",
       "        vertical-align: middle;\n",
       "    }\n",
       "\n",
       "    .dataframe tbody tr th {\n",
       "        vertical-align: top;\n",
       "    }\n",
       "\n",
       "    .dataframe thead th {\n",
       "        text-align: right;\n",
       "    }\n",
       "</style>\n",
       "<table border=\"1\" class=\"dataframe\">\n",
       "  <thead>\n",
       "    <tr style=\"text-align: right;\">\n",
       "      <th></th>\n",
       "      <th>date</th>\n",
       "      <th>values</th>\n",
       "    </tr>\n",
       "  </thead>\n",
       "  <tbody>\n",
       "    <tr>\n",
       "      <th>0</th>\n",
       "      <td>2022-11-02 19:05:44.000127</td>\n",
       "      <td>13683.653</td>\n",
       "    </tr>\n",
       "    <tr>\n",
       "      <th>1</th>\n",
       "      <td>2022-11-02 19:35:37.000379</td>\n",
       "      <td>13683.656</td>\n",
       "    </tr>\n",
       "    <tr>\n",
       "      <th>2</th>\n",
       "      <td>2022-11-02 19:53:27.000666</td>\n",
       "      <td>13683.936</td>\n",
       "    </tr>\n",
       "    <tr>\n",
       "      <th>3</th>\n",
       "      <td>2022-11-02 21:53:19.000541</td>\n",
       "      <td>13686.016</td>\n",
       "    </tr>\n",
       "    <tr>\n",
       "      <th>4</th>\n",
       "      <td>2022-11-02 22:23:14.000835</td>\n",
       "      <td>13686.329</td>\n",
       "    </tr>\n",
       "    <tr>\n",
       "      <th>...</th>\n",
       "      <td>...</td>\n",
       "      <td>...</td>\n",
       "    </tr>\n",
       "    <tr>\n",
       "      <th>329</th>\n",
       "      <td>2022-11-04 12:02:56.000414</td>\n",
       "      <td>13692.453</td>\n",
       "    </tr>\n",
       "    <tr>\n",
       "      <th>330</th>\n",
       "      <td>2022-11-04 12:07:56.000437</td>\n",
       "      <td>13692.453</td>\n",
       "    </tr>\n",
       "    <tr>\n",
       "      <th>331</th>\n",
       "      <td>2022-11-04 12:12:56.000493</td>\n",
       "      <td>13692.453</td>\n",
       "    </tr>\n",
       "    <tr>\n",
       "      <th>332</th>\n",
       "      <td>2022-11-04 12:17:56.000332</td>\n",
       "      <td>13692.453</td>\n",
       "    </tr>\n",
       "    <tr>\n",
       "      <th>333</th>\n",
       "      <td>2022-11-04 12:22:56.000430</td>\n",
       "      <td>13692.453</td>\n",
       "    </tr>\n",
       "  </tbody>\n",
       "</table>\n",
       "<p>334 rows × 2 columns</p>\n",
       "</div>"
      ],
      "text/plain": [
       "                          date     values\n",
       "0   2022-11-02 19:05:44.000127  13683.653\n",
       "1   2022-11-02 19:35:37.000379  13683.656\n",
       "2   2022-11-02 19:53:27.000666  13683.936\n",
       "3   2022-11-02 21:53:19.000541  13686.016\n",
       "4   2022-11-02 22:23:14.000835  13686.329\n",
       "..                         ...        ...\n",
       "329 2022-11-04 12:02:56.000414  13692.453\n",
       "330 2022-11-04 12:07:56.000437  13692.453\n",
       "331 2022-11-04 12:12:56.000493  13692.453\n",
       "332 2022-11-04 12:17:56.000332  13692.453\n",
       "333 2022-11-04 12:22:56.000430  13692.453\n",
       "\n",
       "[334 rows x 2 columns]"
      ]
     },
     "execution_count": 142,
     "metadata": {},
     "output_type": "execute_result"
    }
   ],
   "source": [
    "dataframe"
   ]
  },
  {
   "cell_type": "code",
   "execution_count": 145,
   "id": "07e72744-6e2f-4f70-a340-f3b3374482ea",
   "metadata": {},
   "outputs": [
    {
     "ename": "NameError",
     "evalue": "name 'value' is not defined",
     "output_type": "error",
     "traceback": [
      "\u001b[0;31m---------------------------------------------------------------------------\u001b[0m",
      "\u001b[0;31mNameError\u001b[0m                                 Traceback (most recent call last)",
      "\u001b[0;32m/tmp/ipykernel_14759/730810375.py\u001b[0m in \u001b[0;36m<module>\u001b[0;34m\u001b[0m\n\u001b[1;32m      1\u001b[0m \u001b[0mdate\u001b[0m \u001b[0;34m=\u001b[0m \u001b[0;34m[\u001b[0m\u001b[0;34m]\u001b[0m\u001b[0;34m\u001b[0m\u001b[0;34m\u001b[0m\u001b[0m\n\u001b[0;32m----> 2\u001b[0;31m \u001b[0;32mfor\u001b[0m \u001b[0mtime_val\u001b[0m \u001b[0;32min\u001b[0m \u001b[0mvalue\u001b[0m\u001b[0;34m:\u001b[0m\u001b[0;34m\u001b[0m\u001b[0;34m\u001b[0m\u001b[0m\n\u001b[0m\u001b[1;32m      3\u001b[0m     \u001b[0mdate\u001b[0m\u001b[0;34m.\u001b[0m\u001b[0mappend\u001b[0m\u001b[0;34m(\u001b[0m\u001b[0mdatetime\u001b[0m\u001b[0;34m(\u001b[0m\u001b[0;34m*\u001b[0m\u001b[0mtime\u001b[0m\u001b[0;34m.\u001b[0m\u001b[0mstrptime\u001b[0m\u001b[0;34m(\u001b[0m\u001b[0mtime_val\u001b[0m\u001b[0;34m,\u001b[0m \u001b[0;34m\"%m/%d/%Y\"\u001b[0m\u001b[0;34m)\u001b[0m\u001b[0;34m[\u001b[0m\u001b[0;34m:\u001b[0m\u001b[0;36m3\u001b[0m\u001b[0;34m]\u001b[0m\u001b[0;34m)\u001b[0m\u001b[0;34m)\u001b[0m\u001b[0;34m\u001b[0m\u001b[0;34m\u001b[0m\u001b[0m\n\u001b[1;32m      4\u001b[0m \u001b[0;34m\u001b[0m\u001b[0m\n\u001b[1;32m      5\u001b[0m \u001b[0mfig\u001b[0m\u001b[0;34m,\u001b[0m \u001b[0max\u001b[0m \u001b[0;34m=\u001b[0m \u001b[0mplt\u001b[0m\u001b[0;34m.\u001b[0m\u001b[0msubplots\u001b[0m\u001b[0;34m(\u001b[0m\u001b[0;34m)\u001b[0m\u001b[0;34m\u001b[0m\u001b[0;34m\u001b[0m\u001b[0m\n",
      "\u001b[0;31mNameError\u001b[0m: name 'value' is not defined"
     ]
    }
   ],
   "source": [
    "date = []\n",
    "for time_val in value:\n",
    "    date.append(datetime(*time.strptime(time_val, \"%m/%d/%Y\")[:3]))\n",
    "\n",
    "fig, ax = plt.subplots()\n",
    "ax.plot_date(date, value_list)\n",
    "date_format = mdates.DateFormatter(\"%m/%d/%Y\")\n",
    "ax.xaxis.set_major_formatter(date_format)\n",
    "ax.autoscale_view()\n",
    "title_name = 'plot based on time'\n",
    "ax.set_title(title_name)\n",
    "y_label = 'values'\n",
    "ax.set_ylabel(y_label)\n",
    "ax.grid(True)\n",
    "\n",
    "fig.autofmt_xdate()\n",
    "\n",
    "plt.show()"
   ]
  },
  {
   "cell_type": "code",
   "execution_count": 303,
   "id": "61f70f7e-335a-4b7b-b37c-2317effd1e75",
   "metadata": {},
   "outputs": [
    {
     "data": {
      "text/plain": [
       "0.9048374180359595"
      ]
     },
     "execution_count": 303,
     "metadata": {},
     "output_type": "execute_result"
    }
   ],
   "source": [
    "math.exp(-0.1)"
   ]
  },
  {
   "cell_type": "code",
   "execution_count": null,
   "id": "1a5a0829-6ca1-4354-844c-84d95e89c911",
   "metadata": {},
   "outputs": [],
   "source": []
  }
 ],
 "metadata": {
  "kernelspec": {
   "display_name": "Python 3 (ipykernel)",
   "language": "python",
   "name": "python3"
  },
  "language_info": {
   "codemirror_mode": {
    "name": "ipython",
    "version": 3
   },
   "file_extension": ".py",
   "mimetype": "text/x-python",
   "name": "python",
   "nbconvert_exporter": "python",
   "pygments_lexer": "ipython3",
   "version": "3.9.12"
  }
 },
 "nbformat": 4,
 "nbformat_minor": 5
}
